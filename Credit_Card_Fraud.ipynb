{
  "nbformat": 4,
  "nbformat_minor": 0,
  "metadata": {
    "colab": {
      "name": "Credit Card Fraud.ipynb",
      "provenance": [],
      "collapsed_sections": [],
      "toc_visible": true
    },
    "kernelspec": {
      "name": "python3",
      "display_name": "Python 3"
    }
  },
  "cells": [
    {
      "cell_type": "markdown",
      "metadata": {
        "id": "zShyu5-9kpU-",
        "colab_type": "text"
      },
      "source": [
        "##**Credit Card Fraud Detection by Machine Learning and Deep Learning**\n",
        "\n",
        "Beside the main objective to provide a credit card fraud detection solutions by using machine learning and deep learning methods, our aim is to learn as much as possible techniques to detect fraud in credit card payments. "
      ]
    },
    {
      "cell_type": "markdown",
      "metadata": {
        "id": "0Kl2dnRLqsqO",
        "colab_type": "text"
      },
      "source": [
        "###**Context**\n",
        "It is important that credit card companies are able to recognize fraudulent credit card transactions so that customers are not charged for items that they did not purchase.\n"
      ]
    },
    {
      "cell_type": "markdown",
      "metadata": {
        "id": "ZSmoVUyCrYSQ",
        "colab_type": "text"
      },
      "source": [
        "###**Dataset and Content**\n",
        "The datasets contains transactions made by credit cards in September 2013 by european cardholders.\n",
        "This dataset presents transactions that occurred in two days, where we have 492 frauds out of 284,807 transactions. The dataset is highly unbalanced, the positive class (frauds) account for 0.172% of all transactions.\n",
        "\n",
        "It contains only numerical input variables which are the result of a PCA transformation. Unfortunately, due to confidentiality issues, we cannot provide the original features and more background information about the data. Features V1, V2, … V28 are the principal components obtained with PCA, the only features which have not been transformed with PCA are 'Time' and 'Amount'. Feature 'Time' contains the seconds elapsed between each transaction and the first transaction in the dataset. The feature 'Amount' is the transaction Amount, this feature can be used for example-dependant cost-senstive learning. Feature 'Class' is the response variable and it takes value 1 in case of fraud and 0 otherwise."
      ]
    },
    {
      "cell_type": "markdown",
      "metadata": {
        "id": "HArY_qDir2CI",
        "colab_type": "text"
      },
      "source": [
        "###**1. Introduction and Data Preperation**\n",
        "In this chapter, we will explore the typical challenges associated with fraud detection, and we will resample our data in a smart way, to tackle problems with imbalanced data.\n",
        "\n",
        "However, Machine Learning algorithms usually work best when the different classes contained in the dataset are more or less equally present. If there are few cases of fraud, then there's little data to learn how to identify them. This is known as class imbalance, and it's one of the main challenges of fraud detection. Let's explore this dataset, and observe this class imbalance problem."
      ]
    },
    {
      "cell_type": "code",
      "metadata": {
        "id": "r3gCnrnR6GJU",
        "colab_type": "code",
        "colab": {}
      },
      "source": [
        "from google.colab import drive"
      ],
      "execution_count": null,
      "outputs": []
    },
    {
      "cell_type": "code",
      "metadata": {
        "id": "pLGfg9ND6JxA",
        "colab_type": "code",
        "colab": {
          "base_uri": "https://localhost:8080/",
          "height": 122
        },
        "outputId": "d51c9f83-db9d-4f84-b275-9ad337d2e98d"
      },
      "source": [
        "drive.mount(\"/content/gdrive\", force_remount=True)"
      ],
      "execution_count": null,
      "outputs": [
        {
          "output_type": "stream",
          "text": [
            "Go to this URL in a browser: https://accounts.google.com/o/oauth2/auth?client_id=947318989803-6bn6qk8qdgf4n4g3pfee6491hc0brc4i.apps.googleusercontent.com&redirect_uri=urn%3aietf%3awg%3aoauth%3a2.0%3aoob&response_type=code&scope=email%20https%3a%2f%2fwww.googleapis.com%2fauth%2fdocs.test%20https%3a%2f%2fwww.googleapis.com%2fauth%2fdrive%20https%3a%2f%2fwww.googleapis.com%2fauth%2fdrive.photos.readonly%20https%3a%2f%2fwww.googleapis.com%2fauth%2fpeopleapi.readonly\n",
            "\n",
            "Enter your authorization code:\n",
            "··········\n",
            "Mounted at /content/gdrive\n"
          ],
          "name": "stdout"
        }
      ]
    },
    {
      "cell_type": "markdown",
      "metadata": {
        "id": "RsHvEGD58l3E",
        "colab_type": "text"
      },
      "source": [
        ""
      ]
    },
    {
      "cell_type": "code",
      "metadata": {
        "id": "Vm53ADkGvvJ0",
        "colab_type": "code",
        "colab": {}
      },
      "source": [
        "import pandas as pd\n",
        "df=pd.read_csv(\"/content/gdrive/My Drive/creditcard.csv\")"
      ],
      "execution_count": null,
      "outputs": []
    },
    {
      "cell_type": "code",
      "metadata": {
        "id": "vuyCsTUSBNlC",
        "colab_type": "code",
        "colab": {
          "base_uri": "https://localhost:8080/",
          "height": 697
        },
        "outputId": "3b9232b9-e90b-473c-8c9e-562a05c6f9ab"
      },
      "source": [
        "# Explore the features available in our dataframe\n",
        "print(df.info())\n",
        "print()"
      ],
      "execution_count": null,
      "outputs": [
        {
          "output_type": "stream",
          "text": [
            "<class 'pandas.core.frame.DataFrame'>\n",
            "RangeIndex: 284807 entries, 0 to 284806\n",
            "Data columns (total 31 columns):\n",
            " #   Column  Non-Null Count   Dtype  \n",
            "---  ------  --------------   -----  \n",
            " 0   Time    284807 non-null  float64\n",
            " 1   V1      284807 non-null  float64\n",
            " 2   V2      284807 non-null  float64\n",
            " 3   V3      284807 non-null  float64\n",
            " 4   V4      284807 non-null  float64\n",
            " 5   V5      284807 non-null  float64\n",
            " 6   V6      284807 non-null  float64\n",
            " 7   V7      284807 non-null  float64\n",
            " 8   V8      284807 non-null  float64\n",
            " 9   V9      284807 non-null  float64\n",
            " 10  V10     284807 non-null  float64\n",
            " 11  V11     284807 non-null  float64\n",
            " 12  V12     284807 non-null  float64\n",
            " 13  V13     284807 non-null  float64\n",
            " 14  V14     284807 non-null  float64\n",
            " 15  V15     284807 non-null  float64\n",
            " 16  V16     284807 non-null  float64\n",
            " 17  V17     284807 non-null  float64\n",
            " 18  V18     284807 non-null  float64\n",
            " 19  V19     284807 non-null  float64\n",
            " 20  V20     284807 non-null  float64\n",
            " 21  V21     284807 non-null  float64\n",
            " 22  V22     284807 non-null  float64\n",
            " 23  V23     284807 non-null  float64\n",
            " 24  V24     284807 non-null  float64\n",
            " 25  V25     284807 non-null  float64\n",
            " 26  V26     284807 non-null  float64\n",
            " 27  V27     284807 non-null  float64\n",
            " 28  V28     284807 non-null  float64\n",
            " 29  Amount  284807 non-null  float64\n",
            " 30  Class   284807 non-null  int64  \n",
            "dtypes: float64(30), int64(1)\n",
            "memory usage: 67.4 MB\n",
            "None\n",
            "\n"
          ],
          "name": "stdout"
        }
      ]
    },
    {
      "cell_type": "code",
      "metadata": {
        "id": "GnK9mCG7_84d",
        "colab_type": "code",
        "colab": {
          "base_uri": "https://localhost:8080/",
          "height": 34
        },
        "outputId": "69c534f5-1f41-4269-a72a-9ecf1fd1598b"
      },
      "source": [
        "# Lets check for missing values \n",
        "df.isnull().values.any()"
      ],
      "execution_count": null,
      "outputs": [
        {
          "output_type": "execute_result",
          "data": {
            "text/plain": [
              "False"
            ]
          },
          "metadata": {
            "tags": []
          },
          "execution_count": 6
        }
      ]
    },
    {
      "cell_type": "code",
      "metadata": {
        "id": "fUJW0E3VBTa7",
        "colab_type": "code",
        "colab": {
          "base_uri": "https://localhost:8080/",
          "height": 85
        },
        "outputId": "240c4c34-8c80-41e4-e7af-b695a1358ea2"
      },
      "source": [
        "# Count the occurrences of fraud and no fraud and print them\n",
        "occ = df['Class'].value_counts()\n",
        "print(occ)\n",
        "print()"
      ],
      "execution_count": null,
      "outputs": [
        {
          "output_type": "stream",
          "text": [
            "0    284315\n",
            "1       492\n",
            "Name: Class, dtype: int64\n",
            "\n"
          ],
          "name": "stdout"
        }
      ]
    },
    {
      "cell_type": "code",
      "metadata": {
        "id": "NXvpCGBBBXaN",
        "colab_type": "code",
        "colab": {
          "base_uri": "https://localhost:8080/",
          "height": 68
        },
        "outputId": "7fc432e7-c24e-4b87-bdae-36c3b0235a21"
      },
      "source": [
        "# Print the ratio of fraud cases\n",
        "print(occ / df.shape[0])"
      ],
      "execution_count": null,
      "outputs": [
        {
          "output_type": "stream",
          "text": [
            "0    0.998273\n",
            "1    0.001727\n",
            "Name: Class, dtype: float64\n"
          ],
          "name": "stdout"
        }
      ]
    },
    {
      "cell_type": "markdown",
      "metadata": {
        "id": "NvmcM9muBhtR",
        "colab_type": "text"
      },
      "source": [
        "As we can see, the ratio of fraudulent transactions is very low(0.001727). This is a case of class imbalance problem."
      ]
    },
    {
      "cell_type": "code",
      "metadata": {
        "id": "leSZh6bdBqYP",
        "colab_type": "code",
        "colab": {
          "base_uri": "https://localhost:8080/",
          "height": 224
        },
        "outputId": "a4920f51-c49e-4945-f62c-0606edd4d569"
      },
      "source": [
        "df.head()"
      ],
      "execution_count": null,
      "outputs": [
        {
          "output_type": "execute_result",
          "data": {
            "text/html": [
              "<div>\n",
              "<style scoped>\n",
              "    .dataframe tbody tr th:only-of-type {\n",
              "        vertical-align: middle;\n",
              "    }\n",
              "\n",
              "    .dataframe tbody tr th {\n",
              "        vertical-align: top;\n",
              "    }\n",
              "\n",
              "    .dataframe thead th {\n",
              "        text-align: right;\n",
              "    }\n",
              "</style>\n",
              "<table border=\"1\" class=\"dataframe\">\n",
              "  <thead>\n",
              "    <tr style=\"text-align: right;\">\n",
              "      <th></th>\n",
              "      <th>Time</th>\n",
              "      <th>V1</th>\n",
              "      <th>V2</th>\n",
              "      <th>V3</th>\n",
              "      <th>V4</th>\n",
              "      <th>V5</th>\n",
              "      <th>V6</th>\n",
              "      <th>V7</th>\n",
              "      <th>V8</th>\n",
              "      <th>V9</th>\n",
              "      <th>V10</th>\n",
              "      <th>V11</th>\n",
              "      <th>V12</th>\n",
              "      <th>V13</th>\n",
              "      <th>V14</th>\n",
              "      <th>V15</th>\n",
              "      <th>V16</th>\n",
              "      <th>V17</th>\n",
              "      <th>V18</th>\n",
              "      <th>V19</th>\n",
              "      <th>V20</th>\n",
              "      <th>V21</th>\n",
              "      <th>V22</th>\n",
              "      <th>V23</th>\n",
              "      <th>V24</th>\n",
              "      <th>V25</th>\n",
              "      <th>V26</th>\n",
              "      <th>V27</th>\n",
              "      <th>V28</th>\n",
              "      <th>Amount</th>\n",
              "      <th>Class</th>\n",
              "    </tr>\n",
              "  </thead>\n",
              "  <tbody>\n",
              "    <tr>\n",
              "      <th>0</th>\n",
              "      <td>0.0</td>\n",
              "      <td>-1.359807</td>\n",
              "      <td>-0.072781</td>\n",
              "      <td>2.536347</td>\n",
              "      <td>1.378155</td>\n",
              "      <td>-0.338321</td>\n",
              "      <td>0.462388</td>\n",
              "      <td>0.239599</td>\n",
              "      <td>0.098698</td>\n",
              "      <td>0.363787</td>\n",
              "      <td>0.090794</td>\n",
              "      <td>-0.551600</td>\n",
              "      <td>-0.617801</td>\n",
              "      <td>-0.991390</td>\n",
              "      <td>-0.311169</td>\n",
              "      <td>1.468177</td>\n",
              "      <td>-0.470401</td>\n",
              "      <td>0.207971</td>\n",
              "      <td>0.025791</td>\n",
              "      <td>0.403993</td>\n",
              "      <td>0.251412</td>\n",
              "      <td>-0.018307</td>\n",
              "      <td>0.277838</td>\n",
              "      <td>-0.110474</td>\n",
              "      <td>0.066928</td>\n",
              "      <td>0.128539</td>\n",
              "      <td>-0.189115</td>\n",
              "      <td>0.133558</td>\n",
              "      <td>-0.021053</td>\n",
              "      <td>149.62</td>\n",
              "      <td>0</td>\n",
              "    </tr>\n",
              "    <tr>\n",
              "      <th>1</th>\n",
              "      <td>0.0</td>\n",
              "      <td>1.191857</td>\n",
              "      <td>0.266151</td>\n",
              "      <td>0.166480</td>\n",
              "      <td>0.448154</td>\n",
              "      <td>0.060018</td>\n",
              "      <td>-0.082361</td>\n",
              "      <td>-0.078803</td>\n",
              "      <td>0.085102</td>\n",
              "      <td>-0.255425</td>\n",
              "      <td>-0.166974</td>\n",
              "      <td>1.612727</td>\n",
              "      <td>1.065235</td>\n",
              "      <td>0.489095</td>\n",
              "      <td>-0.143772</td>\n",
              "      <td>0.635558</td>\n",
              "      <td>0.463917</td>\n",
              "      <td>-0.114805</td>\n",
              "      <td>-0.183361</td>\n",
              "      <td>-0.145783</td>\n",
              "      <td>-0.069083</td>\n",
              "      <td>-0.225775</td>\n",
              "      <td>-0.638672</td>\n",
              "      <td>0.101288</td>\n",
              "      <td>-0.339846</td>\n",
              "      <td>0.167170</td>\n",
              "      <td>0.125895</td>\n",
              "      <td>-0.008983</td>\n",
              "      <td>0.014724</td>\n",
              "      <td>2.69</td>\n",
              "      <td>0</td>\n",
              "    </tr>\n",
              "    <tr>\n",
              "      <th>2</th>\n",
              "      <td>1.0</td>\n",
              "      <td>-1.358354</td>\n",
              "      <td>-1.340163</td>\n",
              "      <td>1.773209</td>\n",
              "      <td>0.379780</td>\n",
              "      <td>-0.503198</td>\n",
              "      <td>1.800499</td>\n",
              "      <td>0.791461</td>\n",
              "      <td>0.247676</td>\n",
              "      <td>-1.514654</td>\n",
              "      <td>0.207643</td>\n",
              "      <td>0.624501</td>\n",
              "      <td>0.066084</td>\n",
              "      <td>0.717293</td>\n",
              "      <td>-0.165946</td>\n",
              "      <td>2.345865</td>\n",
              "      <td>-2.890083</td>\n",
              "      <td>1.109969</td>\n",
              "      <td>-0.121359</td>\n",
              "      <td>-2.261857</td>\n",
              "      <td>0.524980</td>\n",
              "      <td>0.247998</td>\n",
              "      <td>0.771679</td>\n",
              "      <td>0.909412</td>\n",
              "      <td>-0.689281</td>\n",
              "      <td>-0.327642</td>\n",
              "      <td>-0.139097</td>\n",
              "      <td>-0.055353</td>\n",
              "      <td>-0.059752</td>\n",
              "      <td>378.66</td>\n",
              "      <td>0</td>\n",
              "    </tr>\n",
              "    <tr>\n",
              "      <th>3</th>\n",
              "      <td>1.0</td>\n",
              "      <td>-0.966272</td>\n",
              "      <td>-0.185226</td>\n",
              "      <td>1.792993</td>\n",
              "      <td>-0.863291</td>\n",
              "      <td>-0.010309</td>\n",
              "      <td>1.247203</td>\n",
              "      <td>0.237609</td>\n",
              "      <td>0.377436</td>\n",
              "      <td>-1.387024</td>\n",
              "      <td>-0.054952</td>\n",
              "      <td>-0.226487</td>\n",
              "      <td>0.178228</td>\n",
              "      <td>0.507757</td>\n",
              "      <td>-0.287924</td>\n",
              "      <td>-0.631418</td>\n",
              "      <td>-1.059647</td>\n",
              "      <td>-0.684093</td>\n",
              "      <td>1.965775</td>\n",
              "      <td>-1.232622</td>\n",
              "      <td>-0.208038</td>\n",
              "      <td>-0.108300</td>\n",
              "      <td>0.005274</td>\n",
              "      <td>-0.190321</td>\n",
              "      <td>-1.175575</td>\n",
              "      <td>0.647376</td>\n",
              "      <td>-0.221929</td>\n",
              "      <td>0.062723</td>\n",
              "      <td>0.061458</td>\n",
              "      <td>123.50</td>\n",
              "      <td>0</td>\n",
              "    </tr>\n",
              "    <tr>\n",
              "      <th>4</th>\n",
              "      <td>2.0</td>\n",
              "      <td>-1.158233</td>\n",
              "      <td>0.877737</td>\n",
              "      <td>1.548718</td>\n",
              "      <td>0.403034</td>\n",
              "      <td>-0.407193</td>\n",
              "      <td>0.095921</td>\n",
              "      <td>0.592941</td>\n",
              "      <td>-0.270533</td>\n",
              "      <td>0.817739</td>\n",
              "      <td>0.753074</td>\n",
              "      <td>-0.822843</td>\n",
              "      <td>0.538196</td>\n",
              "      <td>1.345852</td>\n",
              "      <td>-1.119670</td>\n",
              "      <td>0.175121</td>\n",
              "      <td>-0.451449</td>\n",
              "      <td>-0.237033</td>\n",
              "      <td>-0.038195</td>\n",
              "      <td>0.803487</td>\n",
              "      <td>0.408542</td>\n",
              "      <td>-0.009431</td>\n",
              "      <td>0.798278</td>\n",
              "      <td>-0.137458</td>\n",
              "      <td>0.141267</td>\n",
              "      <td>-0.206010</td>\n",
              "      <td>0.502292</td>\n",
              "      <td>0.219422</td>\n",
              "      <td>0.215153</td>\n",
              "      <td>69.99</td>\n",
              "      <td>0</td>\n",
              "    </tr>\n",
              "  </tbody>\n",
              "</table>\n",
              "</div>"
            ],
            "text/plain": [
              "   Time        V1        V2        V3  ...       V27       V28  Amount  Class\n",
              "0   0.0 -1.359807 -0.072781  2.536347  ...  0.133558 -0.021053  149.62      0\n",
              "1   0.0  1.191857  0.266151  0.166480  ... -0.008983  0.014724    2.69      0\n",
              "2   1.0 -1.358354 -1.340163  1.773209  ... -0.055353 -0.059752  378.66      0\n",
              "3   1.0 -0.966272 -0.185226  1.792993  ...  0.062723  0.061458  123.50      0\n",
              "4   2.0 -1.158233  0.877737  1.548718  ...  0.219422  0.215153   69.99      0\n",
              "\n",
              "[5 rows x 31 columns]"
            ]
          },
          "metadata": {
            "tags": []
          },
          "execution_count": 9
        }
      ]
    },
    {
      "cell_type": "code",
      "metadata": {
        "id": "Uk54HRwuB9qA",
        "colab_type": "code",
        "colab": {
          "base_uri": "https://localhost:8080/",
          "height": 221
        },
        "outputId": "e999eb09-0262-4d0f-a90d-94cb08e96f78"
      },
      "source": [
        "# Print the shape of the data\n",
        "data = df.sample(frac=0.1, random_state = 1)\n",
        "print(data.shape)\n",
        "print(data.describe())"
      ],
      "execution_count": null,
      "outputs": [
        {
          "output_type": "stream",
          "text": [
            "(28481, 31)\n",
            "                Time            V1  ...        Amount         Class\n",
            "count   28481.000000  28481.000000  ...  28481.000000  28481.000000\n",
            "mean    94705.035216     -0.001143  ...     89.957884      0.001720\n",
            "std     47584.727034      1.994661  ...    270.894630      0.041443\n",
            "min         0.000000    -40.470142  ...      0.000000      0.000000\n",
            "25%     53924.000000     -0.908809  ...      5.980000      0.000000\n",
            "50%     84551.000000      0.031139  ...     22.350000      0.000000\n",
            "75%    139392.000000      1.320048  ...     78.930000      0.000000\n",
            "max    172784.000000      2.411499  ...  19656.530000      1.000000\n",
            "\n",
            "[8 rows x 31 columns]\n"
          ],
          "name": "stdout"
        }
      ]
    },
    {
      "cell_type": "code",
      "metadata": {
        "id": "o85tuff1CJgI",
        "colab_type": "code",
        "colab": {
          "base_uri": "https://localhost:8080/",
          "height": 1000
        },
        "outputId": "90b8bd2b-a502-4f6f-ad0a-bf3a46b3fb4e"
      },
      "source": [
        "# Plot histograms of each parameter \n",
        "data.hist(figsize = (20, 20))\n",
        "data.plot"
      ],
      "execution_count": null,
      "outputs": [
        {
          "output_type": "execute_result",
          "data": {
            "text/plain": [
              "<pandas.plotting._core.PlotAccessor object at 0x7f66eb8126a0>"
            ]
          },
          "metadata": {
            "tags": []
          },
          "execution_count": 11
        },
        {
          "output_type": "display_data",
          "data": {
            "image/png": "[encoded data removed]",
            "text/plain": [
              "<Figure size 1440x1440 with 36 Axes>"
            ]
          },
          "metadata": {
            "tags": [],
            "needs_background": "light"
          }
        }
      ]
    },
    {
      "cell_type": "code",
      "metadata": {
        "id": "E9CdmuPSChUx",
        "colab_type": "code",
        "colab": {
          "base_uri": "https://localhost:8080/",
          "height": 68
        },
        "outputId": "f50cd051-109a-49ac-d339-eca06f29b87a"
      },
      "source": [
        "# Determine number of fraud cases in dataset\n",
        "Fraud = data[data['Class'] == 1]\n",
        "Valid = data[data['Class'] == 0]\n",
        "\n",
        "outlier_fraction = len(Fraud)/float(len(Valid))\n",
        "print(outlier_fraction)\n",
        "\n",
        "print('Fraud Cases: {}'.format(len(data[data['Class'] == 1])))\n",
        "print('Valid Transactions: {}'.format(len(data[data['Class'] == 0])))"
      ],
      "execution_count": null,
      "outputs": [
        {
          "output_type": "stream",
          "text": [
            "0.0017234102419808666\n",
            "Fraud Cases: 49\n",
            "Valid Transactions: 28432\n"
          ],
          "name": "stdout"
        }
      ]
    },
    {
      "cell_type": "code",
      "metadata": {
        "id": "orTbeWBS_ZRA",
        "colab_type": "code",
        "colab": {}
      },
      "source": [
        ""
      ],
      "execution_count": null,
      "outputs": []
    },
    {
      "cell_type": "markdown",
      "metadata": {
        "id": "CluZp4pSCuI3",
        "colab_type": "text"
      },
      "source": [
        "###**1.1 Plotting Fraud to non Fraud Ratio**\n",
        "\n",
        "we'll look at the data and visualize the fraud to non-fraud ratio. It is always a good starting point in fraud analysis, to look at our data first, before we make any changes to it.\n",
        "Moreover, when talking to our colleagues, a picture often makes it very clear that we're dealing with heavily imbalanced data. Let's create a plot to visualize the ratio fraud to non-fraud data points on the dataset df.\n"
      ]
    },
    {
      "cell_type": "code",
      "metadata": {
        "id": "t2xT5RHvDUK_",
        "colab_type": "code",
        "colab": {}
      },
      "source": [
        "import numpy as np\n",
        "import matplotlib.pyplot as plt"
      ],
      "execution_count": null,
      "outputs": []
    },
    {
      "cell_type": "code",
      "metadata": {
        "id": "NkbeJsVIDFAz",
        "colab_type": "code",
        "colab": {}
      },
      "source": [
        "def prep_data(df):\n",
        "    X = df.iloc[:, 2:29]\n",
        "    X = np.array(X).astype(np.float)\n",
        "    y = df.iloc[:, 30]\n",
        "    y=np.array(y).astype(np.float)\n",
        "    return X, y"
      ],
      "execution_count": null,
      "outputs": []
    },
    {
      "cell_type": "code",
      "metadata": {
        "id": "ZEHqJeyHDgrG",
        "colab_type": "code",
        "colab": {
          "base_uri": "https://localhost:8080/",
          "height": 265
        },
        "outputId": "a476b2ee-e755-4d88-cf00-bc9cebcff90b"
      },
      "source": [
        "# Define a function to create a scatter plot of our data and labels\n",
        "def plot_data(X, y):\n",
        "\tplt.scatter(X[y == 0, 0], X[y == 0, 1], label=\"Class #0\", alpha=0.5, linewidth=0.15)\n",
        "\tplt.scatter(X[y == 1, 0], X[y == 1, 1], label=\"Class #1\", alpha=0.5, linewidth=0.15, c='r')\n",
        "\tplt.legend()\n",
        "\treturn plt.show()\n",
        "\n",
        "# Create X and y from the prep_data function \n",
        "X, y = prep_data(df)\n",
        "\n",
        "# Plot our data by running our plot data function on X and y\n",
        "plot_data(X, y)"
      ],
      "execution_count": null,
      "outputs": [
        {
          "output_type": "display_data",
          "data": {
            "image/png": "[encoded data removed]",
            "text/plain": [
              "<Figure size 432x288 with 1 Axes>"
            ]
          },
          "metadata": {
            "tags": [],
            "needs_background": "light"
          }
        }
      ]
    },
    {
      "cell_type": "markdown",
      "metadata": {
        "id": "8SNIHPi0Dv81",
        "colab_type": "text"
      },
      "source": [
        "By visualizing the data we can immediately see how our fraud cases are scattered over our data, and how few are cases we have. A picture often makes the imbalance problem often very clear."
      ]
    },
    {
      "cell_type": "code",
      "metadata": {
        "id": "cqNZteEnD0a9",
        "colab_type": "code",
        "colab": {
          "base_uri": "https://localhost:8080/",
          "height": 153
        },
        "outputId": "d78b305a-1ade-43a2-bdf1-01ca07b3be6b"
      },
      "source": [
        "df.iloc[0].values "
      ],
      "execution_count": null,
      "outputs": [
        {
          "output_type": "execute_result",
          "data": {
            "text/plain": [
              "array([ 0.00000000e+00, -1.35980713e+00, -7.27811733e-02,  2.53634674e+00,\n",
              "        1.37815522e+00, -3.38320770e-01,  4.62387778e-01,  2.39598554e-01,\n",
              "        9.86979013e-02,  3.63786970e-01,  9.07941720e-02, -5.51599533e-01,\n",
              "       -6.17800856e-01, -9.91389847e-01, -3.11169354e-01,  1.46817697e+00,\n",
              "       -4.70400525e-01,  2.07971242e-01,  2.57905802e-02,  4.03992960e-01,\n",
              "        2.51412098e-01, -1.83067779e-02,  2.77837576e-01, -1.10473910e-01,\n",
              "        6.69280749e-02,  1.28539358e-01, -1.89114844e-01,  1.33558377e-01,\n",
              "       -2.10530535e-02,  1.49620000e+02,  0.00000000e+00])"
            ]
          },
          "metadata": {
            "tags": []
          },
          "execution_count": 16
        }
      ]
    },
    {
      "cell_type": "code",
      "metadata": {
        "id": "xnEI5sNxD9U_",
        "colab_type": "code",
        "colab": {
          "base_uri": "https://localhost:8080/",
          "height": 119
        },
        "outputId": "0a469202-2bb0-4cb5-f424-a9d581564c9d"
      },
      "source": [
        "X[0]"
      ],
      "execution_count": null,
      "outputs": [
        {
          "output_type": "execute_result",
          "data": {
            "text/plain": [
              "array([-0.07278117,  2.53634674,  1.37815522, -0.33832077,  0.46238778,\n",
              "        0.23959855,  0.0986979 ,  0.36378697,  0.09079417, -0.55159953,\n",
              "       -0.61780086, -0.99138985, -0.31116935,  1.46817697, -0.47040053,\n",
              "        0.20797124,  0.02579058,  0.40399296,  0.2514121 , -0.01830678,\n",
              "        0.27783758, -0.11047391,  0.06692807,  0.12853936, -0.18911484,\n",
              "        0.13355838, -0.02105305])"
            ]
          },
          "metadata": {
            "tags": []
          },
          "execution_count": 17
        }
      ]
    },
    {
      "cell_type": "code",
      "metadata": {
        "id": "6Qdl2M6qECaq",
        "colab_type": "code",
        "colab": {
          "base_uri": "https://localhost:8080/",
          "height": 34
        },
        "outputId": "f2f8ce8a-73fe-48cb-c40f-595248eaf29d"
      },
      "source": [
        "X.shape"
      ],
      "execution_count": null,
      "outputs": [
        {
          "output_type": "execute_result",
          "data": {
            "text/plain": [
              "(284807, 27)"
            ]
          },
          "metadata": {
            "tags": []
          },
          "execution_count": 18
        }
      ]
    },
    {
      "cell_type": "code",
      "metadata": {
        "id": "cBTsFzSJEGRx",
        "colab_type": "code",
        "colab": {
          "base_uri": "https://localhost:8080/",
          "height": 34
        },
        "outputId": "e5de667d-ae4b-4ed7-8390-df565e467222"
      },
      "source": [
        "y"
      ],
      "execution_count": null,
      "outputs": [
        {
          "output_type": "execute_result",
          "data": {
            "text/plain": [
              "array([0., 0., 0., ..., 0., 0., 0.])"
            ]
          },
          "metadata": {
            "tags": []
          },
          "execution_count": 19
        }
      ]
    },
    {
      "cell_type": "markdown",
      "metadata": {
        "id": "Y6xCrss0FSWV",
        "colab_type": "text"
      },
      "source": [
        "###2.1 **Resampling methods for imbalanced data**\n",
        "\n",
        "**Applying SMOTE (Synthetic Minority Over-sampling Technique)**\n",
        "\n",
        "we are going to re-balance our data using the Synthetic Minority Over-sampling Technique (SMOTE). Unlike ROS(Random Over Sampler), SMOTE does not create exact copies of observations, but creates new, synthetic, samples that are quite similar to the existing observations in the minority class. \n",
        "SMOTE is therefore slightly more sophisticated than just copying observations, so let's apply SMOTE to our credit card data. The dataset df is available and the packages you need for SMOTE are imported. In the following exercise, you'll visualize the result and compare it to the original data, such that you can see the effect of applying SMOTE very clearly."
      ]
    },
    {
      "cell_type": "code",
      "metadata": {
        "id": "wNsX3xXvFn3v",
        "colab_type": "code",
        "colab": {
          "base_uri": "https://localhost:8080/",
          "height": 387
        },
        "outputId": "dffd415e-5f18-49ad-d5c0-4fc9e8d7cea5"
      },
      "source": [
        "from imblearn.over_sampling import SMOTE \n",
        "\n",
        "# Run the prep_data function\n",
        "X, y = prep_data(df)\n",
        "\n",
        "# Define the resampling method\n",
        "method = SMOTE()\n",
        "\n",
        "# Create the resampled feature set\n",
        "X_resampled, y_resampled = method.fit_sample(X, y)\n",
        "\n",
        "# Plot the resampled data\n",
        "plot_data(X_resampled, y_resampled)"
      ],
      "execution_count": null,
      "outputs": [
        {
          "output_type": "stream",
          "text": [
            "/usr/local/lib/python3.6/dist-packages/sklearn/externals/six.py:31: FutureWarning: The module is deprecated in version 0.21 and will be removed in version 0.23 since we've dropped support for Python 2.7. Please rely on the official version of six (https://pypi.org/project/six/).\n",
            "  \"(https://pypi.org/project/six/).\", FutureWarning)\n",
            "/usr/local/lib/python3.6/dist-packages/sklearn/utils/deprecation.py:144: FutureWarning: The sklearn.neighbors.base module is  deprecated in version 0.22 and will be removed in version 0.24. The corresponding classes / functions should instead be imported from sklearn.neighbors. Anything that cannot be imported from sklearn.neighbors is now part of the private API.\n",
            "  warnings.warn(message, FutureWarning)\n",
            "/usr/local/lib/python3.6/dist-packages/sklearn/utils/deprecation.py:87: FutureWarning: Function safe_indexing is deprecated; safe_indexing is deprecated in version 0.22 and will be removed in version 0.24.\n",
            "  warnings.warn(msg, category=FutureWarning)\n"
          ],
          "name": "stderr"
        },
        {
          "output_type": "display_data",
          "data": {
            "image/png": "[encoded data removed]",
            "text/plain": [
              "<Figure size 432x288 with 1 Axes>"
            ]
          },
          "metadata": {
            "tags": [],
            "needs_background": "light"
          }
        }
      ]
    },
    {
      "cell_type": "markdown",
      "metadata": {
        "id": "v5SIl8ZEFy18",
        "colab_type": "text"
      },
      "source": [
        "As you can see, our minority class is now much more prominently visible in our data."
      ]
    },
    {
      "cell_type": "markdown",
      "metadata": {
        "id": "_TRKoNLjF7Wr",
        "colab_type": "text"
      },
      "source": [
        "###**2.2 Compare SMOTE to original data**\n",
        "\n",
        "We saw that using SMOTE suddenly gives us more observations of the minority class. Let's compare those results to our original data, to get a good feeling for what has actually happened. Let's have a look at the value counts again of our old and new data, and let's plot the two scatter plots of the data side by side. "
      ]
    },
    {
      "cell_type": "code",
      "metadata": {
        "id": "0Mu8ns7yGFnq",
        "colab_type": "code",
        "colab": {}
      },
      "source": [
        "def compare_plot(X,y,X_resampled,y_resampled, method):\n",
        "    # Start a plot figure\n",
        "    f, (ax1, ax2) = plt.subplots(1, 2)\n",
        "    \n",
        "    # sub-plot number 1, this is our normal data\n",
        "    c0 = ax1.scatter(X[y == 0, 0], X[y == 0, 1], label=\"Class #0\",alpha=0.5)\n",
        "    c1 = ax1.scatter(X[y == 1, 0], X[y == 1, 1], label=\"Class #1\",alpha=0.5, c='r')\n",
        "    ax1.set_title('Original set')\n",
        "    \n",
        "    # sub-plot number 2, this is our oversampled data\n",
        "    ax2.scatter(X_resampled[y_resampled == 0, 0], X_resampled[y_resampled == 0, 1], label=\"Class #0\", alpha=.5)\n",
        "    ax2.scatter(X_resampled[y_resampled == 1, 0], X_resampled[y_resampled == 1, 1], label=\"Class #1\", alpha=.5,c='r')\n",
        "    ax2.set_title(method)\n",
        "    \n",
        "    # some settings and ready to go\n",
        "    plt.figlegend((c0, c1), ('Class #0', 'Class #1'), loc='lower center',\n",
        "                  ncol=2, labelspacing=0.)\n",
        "    plt.tight_layout(pad=3)\n",
        "    return plt.show()"
      ],
      "execution_count": null,
      "outputs": []
    },
    {
      "cell_type": "code",
      "metadata": {
        "id": "Imq0l4GcGXTa",
        "colab_type": "code",
        "colab": {
          "base_uri": "https://localhost:8080/",
          "height": 386
        },
        "outputId": "812b9917-768b-49c4-8c0b-b76e2e650675"
      },
      "source": [
        "# Print the value_counts on the original labels y\n",
        "print(pd.value_counts(pd.Series(y)))\n",
        "\n",
        "# Print the value_counts\n",
        "print(pd.value_counts(pd.Series(y_resampled)))\n",
        "\n",
        "# Run compare_plot\n",
        "compare_plot(X, y, X_resampled, y_resampled, method='SMOTE')"
      ],
      "execution_count": null,
      "outputs": [
        {
          "output_type": "stream",
          "text": [
            "0.0    284315\n",
            "1.0       492\n",
            "dtype: int64\n",
            "1.0    284315\n",
            "0.0    284315\n",
            "dtype: int64\n"
          ],
          "name": "stdout"
        },
        {
          "output_type": "display_data",
          "data": {
            "image/png": "[encoded data removed]",
            "text/plain": [
              "<Figure size 432x288 with 2 Axes>"
            ]
          },
          "metadata": {
            "tags": [],
            "needs_background": "light"
          }
        }
      ]
    },
    {
      "cell_type": "markdown",
      "metadata": {
        "id": "ZCjlJdOhGf15",
        "colab_type": "text"
      },
      "source": [
        "It should by now be clear that our SMOTE has balanced our data completely, and that the minority class is now equal in size to the majority class. Visualizing the data shows the effect on your data very clearly"
      ]
    },
    {
      "cell_type": "markdown",
      "metadata": {
        "id": "VoCza-A5GrOR",
        "colab_type": "text"
      },
      "source": [
        "###**2.3 Traditional way to catch fraud**\n",
        "\n",
        "Now we are going to try finding fraud cases in our credit card dataset the \"old way\". First we'll define threshold values using common statistics, to split fraud and non-fraud. Then, use those thresholds on our features to detect fraud. This is common practice within fraud analytics teams.\n",
        "\n",
        "Statistical thresholds are often determined by looking at the mean values of observations. Let's start this exercise by checking whether feature means differ between fraud and non-fraud cases. Finally, you'll check how well this performs in fraud detection."
      ]
    },
    {
      "cell_type": "code",
      "metadata": {
        "id": "Zg9oS_2TG-pH",
        "colab_type": "code",
        "colab": {
          "base_uri": "https://localhost:8080/",
          "height": 162
        },
        "outputId": "fb5ce74e-d7ea-418c-a27c-66192784031a"
      },
      "source": [
        "# Get the mean for each group\n",
        "df.groupby('Class').mean()"
      ],
      "execution_count": null,
      "outputs": [
        {
          "output_type": "execute_result",
          "data": {
            "text/html": [
              "<div>\n",
              "<style scoped>\n",
              "    .dataframe tbody tr th:only-of-type {\n",
              "        vertical-align: middle;\n",
              "    }\n",
              "\n",
              "    .dataframe tbody tr th {\n",
              "        vertical-align: top;\n",
              "    }\n",
              "\n",
              "    .dataframe thead th {\n",
              "        text-align: right;\n",
              "    }\n",
              "</style>\n",
              "<table border=\"1\" class=\"dataframe\">\n",
              "  <thead>\n",
              "    <tr style=\"text-align: right;\">\n",
              "      <th></th>\n",
              "      <th>Time</th>\n",
              "      <th>V1</th>\n",
              "      <th>V2</th>\n",
              "      <th>V3</th>\n",
              "      <th>V4</th>\n",
              "      <th>V5</th>\n",
              "      <th>V6</th>\n",
              "      <th>V7</th>\n",
              "      <th>V8</th>\n",
              "      <th>V9</th>\n",
              "      <th>V10</th>\n",
              "      <th>V11</th>\n",
              "      <th>V12</th>\n",
              "      <th>V13</th>\n",
              "      <th>V14</th>\n",
              "      <th>V15</th>\n",
              "      <th>V16</th>\n",
              "      <th>V17</th>\n",
              "      <th>V18</th>\n",
              "      <th>V19</th>\n",
              "      <th>V20</th>\n",
              "      <th>V21</th>\n",
              "      <th>V22</th>\n",
              "      <th>V23</th>\n",
              "      <th>V24</th>\n",
              "      <th>V25</th>\n",
              "      <th>V26</th>\n",
              "      <th>V27</th>\n",
              "      <th>V28</th>\n",
              "      <th>Amount</th>\n",
              "    </tr>\n",
              "    <tr>\n",
              "      <th>Class</th>\n",
              "      <th></th>\n",
              "      <th></th>\n",
              "      <th></th>\n",
              "      <th></th>\n",
              "      <th></th>\n",
              "      <th></th>\n",
              "      <th></th>\n",
              "      <th></th>\n",
              "      <th></th>\n",
              "      <th></th>\n",
              "      <th></th>\n",
              "      <th></th>\n",
              "      <th></th>\n",
              "      <th></th>\n",
              "      <th></th>\n",
              "      <th></th>\n",
              "      <th></th>\n",
              "      <th></th>\n",
              "      <th></th>\n",
              "      <th></th>\n",
              "      <th></th>\n",
              "      <th></th>\n",
              "      <th></th>\n",
              "      <th></th>\n",
              "      <th></th>\n",
              "      <th></th>\n",
              "      <th></th>\n",
              "      <th></th>\n",
              "      <th></th>\n",
              "      <th></th>\n",
              "    </tr>\n",
              "  </thead>\n",
              "  <tbody>\n",
              "    <tr>\n",
              "      <th>0</th>\n",
              "      <td>94838.202258</td>\n",
              "      <td>0.008258</td>\n",
              "      <td>-0.006271</td>\n",
              "      <td>0.012171</td>\n",
              "      <td>-0.007860</td>\n",
              "      <td>0.005453</td>\n",
              "      <td>0.002419</td>\n",
              "      <td>0.009637</td>\n",
              "      <td>-0.000987</td>\n",
              "      <td>0.004467</td>\n",
              "      <td>0.009824</td>\n",
              "      <td>-0.006576</td>\n",
              "      <td>0.010832</td>\n",
              "      <td>0.000189</td>\n",
              "      <td>0.012064</td>\n",
              "      <td>0.000161</td>\n",
              "      <td>0.007164</td>\n",
              "      <td>0.011535</td>\n",
              "      <td>0.003887</td>\n",
              "      <td>-0.001178</td>\n",
              "      <td>-0.000644</td>\n",
              "      <td>-0.001235</td>\n",
              "      <td>-0.000024</td>\n",
              "      <td>0.000070</td>\n",
              "      <td>0.000182</td>\n",
              "      <td>-0.000072</td>\n",
              "      <td>-0.000089</td>\n",
              "      <td>-0.000295</td>\n",
              "      <td>-0.000131</td>\n",
              "      <td>88.291022</td>\n",
              "    </tr>\n",
              "    <tr>\n",
              "      <th>1</th>\n",
              "      <td>80746.806911</td>\n",
              "      <td>-4.771948</td>\n",
              "      <td>3.623778</td>\n",
              "      <td>-7.033281</td>\n",
              "      <td>4.542029</td>\n",
              "      <td>-3.151225</td>\n",
              "      <td>-1.397737</td>\n",
              "      <td>-5.568731</td>\n",
              "      <td>0.570636</td>\n",
              "      <td>-2.581123</td>\n",
              "      <td>-5.676883</td>\n",
              "      <td>3.800173</td>\n",
              "      <td>-6.259393</td>\n",
              "      <td>-0.109334</td>\n",
              "      <td>-6.971723</td>\n",
              "      <td>-0.092929</td>\n",
              "      <td>-4.139946</td>\n",
              "      <td>-6.665836</td>\n",
              "      <td>-2.246308</td>\n",
              "      <td>0.680659</td>\n",
              "      <td>0.372319</td>\n",
              "      <td>0.713588</td>\n",
              "      <td>0.014049</td>\n",
              "      <td>-0.040308</td>\n",
              "      <td>-0.105130</td>\n",
              "      <td>0.041449</td>\n",
              "      <td>0.051648</td>\n",
              "      <td>0.170575</td>\n",
              "      <td>0.075667</td>\n",
              "      <td>122.211321</td>\n",
              "    </tr>\n",
              "  </tbody>\n",
              "</table>\n",
              "</div>"
            ],
            "text/plain": [
              "               Time        V1        V2  ...       V27       V28      Amount\n",
              "Class                                    ...                                \n",
              "0      94838.202258  0.008258 -0.006271  ... -0.000295 -0.000131   88.291022\n",
              "1      80746.806911 -4.771948  3.623778  ...  0.170575  0.075667  122.211321\n",
              "\n",
              "[2 rows x 30 columns]"
            ]
          },
          "metadata": {
            "tags": []
          },
          "execution_count": 23
        }
      ]
    },
    {
      "cell_type": "code",
      "metadata": {
        "id": "yWuIl2CbHHDV",
        "colab_type": "code",
        "colab": {
          "base_uri": "https://localhost:8080/",
          "height": 142
        },
        "outputId": "9550078c-a2a1-4f6a-925a-149175a6d495"
      },
      "source": [
        "# Implement a rule for stating which cases are flagged as fraud\n",
        "df['flag_as_fraud'] = np.where(np.logical_and(df['V1'] < -3, df['V3'] < -5), 1, 0)\n",
        "\n",
        "# Create a crosstab of flagged fraud cases versus the actual fraud cases\n",
        "pd.crosstab(df.Class, df.flag_as_fraud, rownames=['Actual Fraud'], colnames=['Flagged Fraud'])"
      ],
      "execution_count": null,
      "outputs": [
        {
          "output_type": "execute_result",
          "data": {
            "text/html": [
              "<div>\n",
              "<style scoped>\n",
              "    .dataframe tbody tr th:only-of-type {\n",
              "        vertical-align: middle;\n",
              "    }\n",
              "\n",
              "    .dataframe tbody tr th {\n",
              "        vertical-align: top;\n",
              "    }\n",
              "\n",
              "    .dataframe thead th {\n",
              "        text-align: right;\n",
              "    }\n",
              "</style>\n",
              "<table border=\"1\" class=\"dataframe\">\n",
              "  <thead>\n",
              "    <tr style=\"text-align: right;\">\n",
              "      <th>Flagged Fraud</th>\n",
              "      <th>0</th>\n",
              "      <th>1</th>\n",
              "    </tr>\n",
              "    <tr>\n",
              "      <th>Actual Fraud</th>\n",
              "      <th></th>\n",
              "      <th></th>\n",
              "    </tr>\n",
              "  </thead>\n",
              "  <tbody>\n",
              "    <tr>\n",
              "      <th>0</th>\n",
              "      <td>283089</td>\n",
              "      <td>1226</td>\n",
              "    </tr>\n",
              "    <tr>\n",
              "      <th>1</th>\n",
              "      <td>322</td>\n",
              "      <td>170</td>\n",
              "    </tr>\n",
              "  </tbody>\n",
              "</table>\n",
              "</div>"
            ],
            "text/plain": [
              "Flagged Fraud       0     1\n",
              "Actual Fraud               \n",
              "0              283089  1226\n",
              "1                 322   170"
            ]
          },
          "metadata": {
            "tags": []
          },
          "execution_count": 24
        }
      ]
    },
    {
      "cell_type": "markdown",
      "metadata": {
        "id": "zGcAvyz2HO_Q",
        "colab_type": "text"
      },
      "source": [
        "not bad, with this rule, we detect 170 out of 492 fraud cases, but can't detect the other 322, and get 1226 false positives."
      ]
    },
    {
      "cell_type": "markdown",
      "metadata": {
        "id": "PjUnAT7az1EV",
        "colab_type": "text"
      },
      "source": [
        "### **3. Using ML classifications to catch fraud**\n",
        "\n",
        "In this section we will discuss the logistic regression technique with applying different hyper parameter tuning methods to find best results."
      ]
    },
    {
      "cell_type": "markdown",
      "metadata": {
        "id": "MwY6TnDj0tD5",
        "colab_type": "text"
      },
      "source": [
        "###**3.1 Logistic Regression**"
      ]
    },
    {
      "cell_type": "code",
      "metadata": {
        "id": "iG1jaAUO080d",
        "colab_type": "code",
        "colab": {}
      },
      "source": [
        "from sklearn.model_selection import train_test_split\n",
        "from sklearn.linear_model import LogisticRegression\n",
        "\n",
        "from sklearn.metrics import classification_report\n",
        "from sklearn.metrics import confusion_matrix"
      ],
      "execution_count": null,
      "outputs": []
    },
    {
      "cell_type": "code",
      "metadata": {
        "id": "RqaysjSu1KSh",
        "colab_type": "code",
        "colab": {
          "base_uri": "https://localhost:8080/",
          "height": 238
        },
        "outputId": "b1496429-3680-4a78-8cc3-eff496d38a41"
      },
      "source": [
        "# Create the training and testing sets\n",
        "X_train, X_test, y_train, y_test = train_test_split(X, y, test_size=.3, random_state=0)\n",
        "\n",
        "# Fit a logistic regression model to our data\n",
        "model = LogisticRegression()\n",
        "model.fit(X_train, y_train)\n",
        "\n",
        "# Obtain model predictions\n",
        "predicted = model.predict(X_test)\n",
        "\n",
        "# Print the classifcation report and confusion matrix\n",
        "print('Classification report:\\n', classification_report(y_test, predicted))\n",
        "conf_mat = confusion_matrix(y_true=y_test, y_pred=predicted)\n",
        "print('Confusion matrix:\\n', conf_mat)"
      ],
      "execution_count": null,
      "outputs": [
        {
          "output_type": "stream",
          "text": [
            "Classification report:\n",
            "               precision    recall  f1-score   support\n",
            "\n",
            "         0.0       1.00      1.00      1.00     85296\n",
            "         1.0       0.89      0.63      0.74       147\n",
            "\n",
            "    accuracy                           1.00     85443\n",
            "   macro avg       0.95      0.81      0.87     85443\n",
            "weighted avg       1.00      1.00      1.00     85443\n",
            "\n",
            "Confusion matrix:\n",
            " [[85285    11]\n",
            " [   55    92]]\n"
          ],
          "name": "stdout"
        }
      ]
    },
    {
      "cell_type": "markdown",
      "metadata": {
        "id": "xoNz7AdP2GPq",
        "colab_type": "text"
      },
      "source": [
        "We are getting much less false positives, so that's an improvement. Also, we're catching a higher percentage of fraud cases, so that is also better than before. we are using only our test data to calculate the model results on. We're comparing the crosstab on the full dataset from the last exercise, with a confusion matrix of only 30% of the total dataset, so that's where that difference comes from"
      ]
    },
    {
      "cell_type": "markdown",
      "metadata": {
        "id": "gTHgKJLz2KBT",
        "colab_type": "text"
      },
      "source": [
        "### **3.2 Logistic regression combined with SMOTE and using pipeline**\n",
        "\n",
        "We're going to take the Logistic Regression model from the previous, and combine that with a SMOTE resampling method. We'll show you how to do that efficiently by using a pipeline that combines the resampling method with the model in one go. First, we need to define the pipeline that we're going to use."
      ]
    },
    {
      "cell_type": "code",
      "metadata": {
        "id": "c8g2uBjK2u05",
        "colab_type": "code",
        "colab": {}
      },
      "source": [
        "# This is the pipeline module we need for this from imblearn\n",
        "from imblearn.pipeline import Pipeline \n",
        "from imblearn.over_sampling import BorderlineSMOTE\n",
        "\n",
        "# Define which resampling method and which ML model to use in the pipeline\n",
        "resampling = BorderlineSMOTE(kind='borderline-2') # instead SMOTE(kind='borderline2') ###################################\n",
        "model = LogisticRegression()\n",
        "\n",
        "# Define the pipeline, tell it to combine SMOTE with the Logistic Regression model\n",
        "pipeline = Pipeline([('SMOTE', resampling), ('Logistic Regression', model)])"
      ],
      "execution_count": null,
      "outputs": []
    },
    {
      "cell_type": "markdown",
      "metadata": {
        "id": "4lf1M8UG20TQ",
        "colab_type": "text"
      },
      "source": [
        "Now we have our pipeline defined, and combining a logistic regression with a SMOTE method, let's run it on the data. we can treat the pipeline as if it were a single machine learning model. "
      ]
    },
    {
      "cell_type": "code",
      "metadata": {
        "id": "atHbhB9M21ZD",
        "colab_type": "code",
        "colab": {
          "base_uri": "https://localhost:8080/",
          "height": 360
        },
        "outputId": "28d0fc49-e380-4bca-a0c9-b492ec43e154"
      },
      "source": [
        "# Split your data X and y, into a training and a test set and fit the pipeline onto the training data\n",
        "X_train, X_test, y_train, y_test = train_test_split(X,y, test_size=.3, random_state=0)\n",
        "\n",
        "# Fit your pipeline onto your training set and obtain predictions by fitting the model onto the test data \n",
        "pipeline.fit(X_train, y_train) \n",
        "predicted = pipeline.predict(X_test)\n",
        "\n",
        "# Obtain the results from the classification report and confusion matrix \n",
        "print('Classifcation report:\\n', classification_report(y_test, predicted))\n",
        "conf_mat = confusion_matrix(y_true=y_test, y_pred=predicted)\n",
        "print('Confusion matrix:\\n', conf_mat)"
      ],
      "execution_count": null,
      "outputs": [
        {
          "output_type": "stream",
          "text": [
            "/usr/local/lib/python3.6/dist-packages/sklearn/utils/deprecation.py:87: FutureWarning: Function safe_indexing is deprecated; safe_indexing is deprecated in version 0.22 and will be removed in version 0.24.\n",
            "  warnings.warn(msg, category=FutureWarning)\n",
            "/usr/local/lib/python3.6/dist-packages/sklearn/utils/deprecation.py:87: FutureWarning: Function safe_indexing is deprecated; safe_indexing is deprecated in version 0.22 and will be removed in version 0.24.\n",
            "  warnings.warn(msg, category=FutureWarning)\n",
            "/usr/local/lib/python3.6/dist-packages/sklearn/utils/deprecation.py:87: FutureWarning: Function safe_indexing is deprecated; safe_indexing is deprecated in version 0.22 and will be removed in version 0.24.\n",
            "  warnings.warn(msg, category=FutureWarning)\n"
          ],
          "name": "stderr"
        },
        {
          "output_type": "stream",
          "text": [
            "Classifcation report:\n",
            "               precision    recall  f1-score   support\n",
            "\n",
            "         0.0       1.00      0.98      0.99     85296\n",
            "         1.0       0.06      0.88      0.12       147\n",
            "\n",
            "    accuracy                           0.98     85443\n",
            "   macro avg       0.53      0.93      0.55     85443\n",
            "weighted avg       1.00      0.98      0.99     85443\n",
            "\n",
            "Confusion matrix:\n",
            " [[83365  1931]\n",
            " [   17   130]]\n"
          ],
          "name": "stdout"
        }
      ]
    },
    {
      "cell_type": "markdown",
      "metadata": {
        "id": "V_4wd87F29u8",
        "colab_type": "text"
      },
      "source": [
        "As we can see, the SMOTE slightly improves our results. We now manage to find all cases of fraud, but we have a slightly higher number of false positives. Remember, not in all cases does resampling necessarily lead to better results. When the fraud cases are very spread and scattered over the data, using SMOTE can introduce a bit of bias. Nearest neighbors aren't necessarily also fraud cases, so the synthetic samples might 'confuse' the model slightly."
      ]
    },
    {
      "cell_type": "markdown",
      "metadata": {
        "id": "5QqsmNax3AFq",
        "colab_type": "text"
      },
      "source": [
        "### **3.3 Random Forest Classifier**"
      ]
    },
    {
      "cell_type": "code",
      "metadata": {
        "id": "UfPCRIuL3ieS",
        "colab_type": "code",
        "colab": {}
      },
      "source": [
        "# Import the random forest model from sklearn\n",
        "from sklearn.ensemble import RandomForestClassifier\n",
        "\n",
        "# Split your data into training and test set\n",
        "X_train, X_test, y_train, y_test = train_test_split(X, y, test_size=.3, random_state=0)\n",
        "\n",
        "# Define the model as the random forest\n",
        "model = RandomForestClassifier(random_state=5)"
      ],
      "execution_count": null,
      "outputs": []
    },
    {
      "cell_type": "code",
      "metadata": {
        "id": "t_vlgSXa3kl_",
        "colab_type": "code",
        "colab": {
          "base_uri": "https://localhost:8080/",
          "height": 34
        },
        "outputId": "791b5811-0256-4ca7-f6bd-0fc854e993e4"
      },
      "source": [
        "X_test.shape, y_test.shape"
      ],
      "execution_count": null,
      "outputs": [
        {
          "output_type": "execute_result",
          "data": {
            "text/plain": [
              "((85443, 27), (85443,))"
            ]
          },
          "metadata": {
            "tags": []
          },
          "execution_count": 30
        }
      ]
    },
    {
      "cell_type": "code",
      "metadata": {
        "id": "UYek7bjk3nTC",
        "colab_type": "code",
        "colab": {
          "base_uri": "https://localhost:8080/",
          "height": 34
        },
        "outputId": "f3d1e3c2-4957-4a96-a220-cac86218afd5"
      },
      "source": [
        "# Fit the model to our training set\n",
        "model.fit(X_train, y_train)\n",
        "\n",
        "# Obtain predictions from the test data \n",
        "predicted = model.predict(X_test)\n",
        "\n",
        "from sklearn.metrics import accuracy_score\n",
        "\n",
        "# Print the accuracy performance metric\n",
        "print(accuracy_score(y_test, predicted))"
      ],
      "execution_count": null,
      "outputs": [
        {
          "output_type": "stream",
          "text": [
            "0.9995201479348805\n"
          ],
          "name": "stdout"
        }
      ]
    },
    {
      "cell_type": "markdown",
      "metadata": {
        "id": "LTgW33WA5dPu",
        "colab_type": "text"
      },
      "source": [
        "###**3.4 Performance metrics for the RF model**\n",
        "\n",
        "With highly imbalanced fraud data, the AUROC curve is a more reliable performance metric, used to compare different classifiers. Moreover, the classification report tells you about the precision and recall of your model, whilst the confusion matrix actually shows how many fraud cases you can predict correctly"
      ]
    },
    {
      "cell_type": "code",
      "metadata": {
        "id": "qTHO8Ord5mXF",
        "colab_type": "code",
        "colab": {
          "base_uri": "https://localhost:8080/",
          "height": 221
        },
        "outputId": "287ad217-b1e3-4621-e90f-9d4f4a27ac34"
      },
      "source": [
        "# Import the packages to get the different performance metrics\n",
        "from sklearn.metrics import classification_report, confusion_matrix, roc_auc_score\n",
        "\n",
        "# Obtain the predictions from our random forest model \n",
        "predicted = model.predict(X_test)\n",
        "\n",
        "# Predict probabilities\n",
        "probs = model.predict_proba(X_test)\n",
        "\n",
        "# Print the AUCROC curve, classification report and confusion matrix\n",
        "print(classification_report(y_test, predicted))\n",
        "\n",
        "print(confusion_matrix(y_test, predicted, labels=[0, 1]))\n",
        "\n",
        "print(\"AUC ROC score: \", roc_auc_score(y_test, probs[:,1]))"
      ],
      "execution_count": null,
      "outputs": [
        {
          "output_type": "stream",
          "text": [
            "              precision    recall  f1-score   support\n",
            "\n",
            "         0.0       1.00      1.00      1.00     85296\n",
            "         1.0       0.95      0.76      0.85       147\n",
            "\n",
            "    accuracy                           1.00     85443\n",
            "   macro avg       0.97      0.88      0.92     85443\n",
            "weighted avg       1.00      1.00      1.00     85443\n",
            "\n",
            "[[85290     6]\n",
            " [   35   112]]\n",
            "AUC ROC score:  0.9338071375614587\n"
          ],
          "name": "stdout"
        }
      ]
    },
    {
      "cell_type": "markdown",
      "metadata": {
        "id": "bZYM2e145sT6",
        "colab_type": "text"
      },
      "source": [
        "We have now obtained more meaningful performance metrics that tell us how well the model performs, given the highly imbalanced data that we're working with. The model predicts 118 cases of fraud, out of which 112 are actual fraud. You have only 6 false positives. This is really good, and as a result you have a very high precision score. You do however, don't catch 35 cases of actual fraud (false negative). We consider the scores based on fraud detection (1)."
      ]
    },
    {
      "cell_type": "code",
      "metadata": {
        "id": "S7y0FEGd5w69",
        "colab_type": "code",
        "colab": {
          "base_uri": "https://localhost:8080/",
          "height": 136
        },
        "outputId": "da4e3c30-cdd0-4abe-bfc4-0e55d2f29584"
      },
      "source": [
        "probs"
      ],
      "execution_count": null,
      "outputs": [
        {
          "output_type": "execute_result",
          "data": {
            "text/plain": [
              "array([[1., 0.],\n",
              "       [1., 0.],\n",
              "       [1., 0.],\n",
              "       ...,\n",
              "       [1., 0.],\n",
              "       [1., 0.],\n",
              "       [1., 0.]])"
            ]
          },
          "metadata": {
            "tags": []
          },
          "execution_count": 33
        }
      ]
    },
    {
      "cell_type": "markdown",
      "metadata": {
        "id": "Nhnz_tUD57r0",
        "colab_type": "text"
      },
      "source": [
        "###**3.5 Plotting the Precision Recall Curve**\n",
        "\n",
        "In this curve Precision and Recall are inversely related; as Precision increases, Recall falls and vice-versa."
      ]
    },
    {
      "cell_type": "code",
      "metadata": {
        "id": "D418pqKb6FiE",
        "colab_type": "code",
        "colab": {}
      },
      "source": [
        "def plot_pr_curve(recall, precision, average_precision):\n",
        "    plt.step(recall, precision, color='b', alpha=0.2, where='post')\n",
        "    plt.fill_between(recall, precision, step='post', alpha=0.2, color='b')\n",
        "    plt.xlabel('Recall')\n",
        "    plt.ylabel('Precision')\n",
        "    plt.ylim([0.0, 1.05])\n",
        "    plt.xlim([0.0, 1.0])\n",
        "    plt.title('2-class Precision-Recall curve: AP={0:0.2f}'.format(average_precision))\n",
        "    plt.show()"
      ],
      "execution_count": null,
      "outputs": []
    },
    {
      "cell_type": "code",
      "metadata": {
        "id": "H-i-GtIE6JPf",
        "colab_type": "code",
        "colab": {
          "base_uri": "https://localhost:8080/",
          "height": 295
        },
        "outputId": "9d3f772d-9ecc-464b-a333-c16285a66ca6"
      },
      "source": [
        "from sklearn.metrics import average_precision_score, precision_recall_curve, roc_curve\n",
        "\n",
        "# Calculate average precision and the PR curve\n",
        "average_precision = average_precision_score(y_test, predicted)\n",
        "\n",
        "# Obtain precision and recall \n",
        "precision, recall, _ = precision_recall_curve(y_test, predicted)\n",
        "\n",
        "# Plot the recall precision tradeoff\n",
        "plot_pr_curve(recall, precision, average_precision)"
      ],
      "execution_count": null,
      "outputs": [
        {
          "output_type": "display_data",
          "data": {
            "image/png": "[encoded data removed]",
            "text/plain": [
              "<Figure size 432x288 with 1 Axes>"
            ]
          },
          "metadata": {
            "tags": [],
            "needs_background": "light"
          }
        }
      ]
    },
    {
      "cell_type": "markdown",
      "metadata": {
        "id": "Tqv4lZqa5sQT",
        "colab_type": "text"
      },
      "source": [
        "The ROC curve plots the true positives vs. false positives , for a classifier, as its discrimination threshold is varied. Since, a random method describes a horizontal curve through the unit interval, it has an AUC of 0.5. Minimally, classifiers should perform better than this, and the extent to which they score higher than one another (meaning the area under the ROC curve is larger), they have better expected performance."
      ]
    },
    {
      "cell_type": "code",
      "metadata": {
        "id": "JBHfv4nq6dXm",
        "colab_type": "code",
        "colab": {
          "base_uri": "https://localhost:8080/",
          "height": 34
        },
        "outputId": "5f62c834-2a4c-4b7b-d532-d3d9b58a9cd8"
      },
      "source": [
        "# Create true and false positive rates\n",
        "false_positive_rate, true_positive_rate, threshold = roc_curve(y_test, predicted)\n",
        "\n",
        "false_positive_rate"
      ],
      "execution_count": null,
      "outputs": [
        {
          "output_type": "execute_result",
          "data": {
            "text/plain": [
              "array([0.00000000e+00, 7.03432752e-05, 1.00000000e+00])"
            ]
          },
          "metadata": {
            "tags": []
          },
          "execution_count": 36
        }
      ]
    },
    {
      "cell_type": "code",
      "metadata": {
        "id": "fNlOVM6M6hnV",
        "colab_type": "code",
        "colab": {
          "base_uri": "https://localhost:8080/",
          "height": 34
        },
        "outputId": "00c45a6c-95b6-45e2-d447-dff42a6aa9b4"
      },
      "source": [
        "true_positive_rate"
      ],
      "execution_count": null,
      "outputs": [
        {
          "output_type": "execute_result",
          "data": {
            "text/plain": [
              "array([0.        , 0.76190476, 1.        ])"
            ]
          },
          "metadata": {
            "tags": []
          },
          "execution_count": 37
        }
      ]
    },
    {
      "cell_type": "code",
      "metadata": {
        "id": "ZBvJa-qn6lNg",
        "colab_type": "code",
        "colab": {
          "base_uri": "https://localhost:8080/",
          "height": 34
        },
        "outputId": "b9e738e5-bcad-4705-fb37-94f1510bfe94"
      },
      "source": [
        "threshold"
      ],
      "execution_count": null,
      "outputs": [
        {
          "output_type": "execute_result",
          "data": {
            "text/plain": [
              "array([2., 1., 0.])"
            ]
          },
          "metadata": {
            "tags": []
          },
          "execution_count": 38
        }
      ]
    },
    {
      "cell_type": "code",
      "metadata": {
        "id": "v-8kWBVP6pC4",
        "colab_type": "code",
        "colab": {
          "base_uri": "https://localhost:8080/",
          "height": 295
        },
        "outputId": "d9af17a0-80e7-4cf9-e625-40ab6716aa64"
      },
      "source": [
        "# Plot ROC curve\n",
        "plt.title(\"Receiver Operating Characteristic\")\n",
        "plt.plot(false_positive_rate, true_positive_rate)\n",
        "plt.plot([0, 1], ls=\"--\")\n",
        "plt.plot([0, 0], [1, 0] , c=\".7\"), plt.plot([1, 1] , c=\".7\")\n",
        "plt.ylabel(\"True Positive Rate\")\n",
        "plt.xlabel(\"False Positive Rate\")\n",
        "plt.show()"
      ],
      "execution_count": null,
      "outputs": [
        {
          "output_type": "display_data",
          "data": {
            "image/png": "[encoded data removed]",
            "text/plain": [
              "<Figure size 432x288 with 1 Axes>"
            ]
          },
          "metadata": {
            "tags": [],
            "needs_background": "light"
          }
        }
      ]
    },
    {
      "cell_type": "markdown",
      "metadata": {
        "id": "CbkL79SDbHlA",
        "colab_type": "text"
      },
      "source": [
        "\n",
        "*   **AUC ROC** : Area under the ROC (Receiver Operating Characteristic) curve is a performance measurement for classification problem at various thresholds settings. \n",
        "\n",
        "*   **ROC** is a probability curve and AUC represents degree or measure of separability. It tells how much model is capable of distinguishing between classes. \n",
        "\n",
        "*   **Higher** the AUC, **better** the model is at predicting 0s as 0s and 1s as 1s. By analogy, Higher the AUC, better the model is at distinguishing between transaction with fraud and no fraud.\n",
        "\n",
        "\n",
        "\n"
      ]
    },
    {
      "cell_type": "markdown",
      "metadata": {
        "id": "pChv2scl6QNm",
        "colab_type": "text"
      },
      "source": [
        "###**3.6 Model adjustments**"
      ]
    },
    {
      "cell_type": "code",
      "metadata": {
        "id": "B43RWlwY61EY",
        "colab_type": "code",
        "colab": {
          "base_uri": "https://localhost:8080/",
          "height": 221
        },
        "outputId": "42f44f3a-0bd8-40fc-9557-19db49e8c330"
      },
      "source": [
        "# Define the model with balanced subsample\n",
        "model = RandomForestClassifier(class_weight='balanced_subsample', n_estimators=100, random_state=5)\n",
        "\n",
        "# Fit your training model to your training set\n",
        "model.fit(X_train, y_train)\n",
        "\n",
        "# Obtain the predicted values and probabilities from the model \n",
        "predicted = model.predict(X_test)\n",
        "probs = model.predict_proba(X_test)\n",
        "\n",
        "# Print the roc_auc_score, the classification report and confusion matrix\n",
        "print(roc_auc_score(y_test, probs[:,1]))\n",
        "print(classification_report(y_test, predicted))\n",
        "print(confusion_matrix(y_test, predicted))"
      ],
      "execution_count": null,
      "outputs": [
        {
          "output_type": "stream",
          "text": [
            "0.9373615465694811\n",
            "              precision    recall  f1-score   support\n",
            "\n",
            "         0.0       1.00      1.00      1.00     85296\n",
            "         1.0       0.97      0.75      0.85       147\n",
            "\n",
            "    accuracy                           1.00     85443\n",
            "   macro avg       0.99      0.87      0.92     85443\n",
            "weighted avg       1.00      1.00      1.00     85443\n",
            "\n",
            "[[85293     3]\n",
            " [   37   110]]\n"
          ],
          "name": "stdout"
        }
      ]
    },
    {
      "cell_type": "markdown",
      "metadata": {
        "id": "zjRrpNZG7Z_J",
        "colab_type": "text"
      },
      "source": [
        "We can see that the model results don't improve drastically. If we mostly care about catching fraud, and not so much about the false positives, this does actually not improve our model at all."
      ]
    },
    {
      "cell_type": "markdown",
      "metadata": {
        "id": "WQbJbRsp7c7j",
        "colab_type": "text"
      },
      "source": [
        "###**3.7 Adjusting your Random Forest to fraud detection**"
      ]
    },
    {
      "cell_type": "code",
      "metadata": {
        "id": "xOUepDCx7nTN",
        "colab_type": "code",
        "colab": {}
      },
      "source": [
        "def get_model_results(X_train, y_train, X_test, y_test, model):\n",
        "    model.fit(X_train, y_train)\n",
        "    predicted = model.predict(X_test)\n",
        "    print (classification_report(y_test, predicted))\n",
        "    print (confusion_matrix(y_test, predicted))"
      ],
      "execution_count": null,
      "outputs": []
    },
    {
      "cell_type": "code",
      "metadata": {
        "id": "LaGRvhi67vu3",
        "colab_type": "code",
        "colab": {
          "base_uri": "https://localhost:8080/",
          "height": 204
        },
        "outputId": "134266d7-263a-452a-dc94-ead4adfd3a97"
      },
      "source": [
        "# Change the model options\n",
        "model = RandomForestClassifier(bootstrap=True, \n",
        "                               class_weight={0:1, 1:12}, # 0: non-fraud , 1:fraud \n",
        "                               criterion='entropy',\n",
        "                               \n",
        "                               # Change depth of model\n",
        "                               max_depth=10,\n",
        "                               \n",
        "                               # Change the number of samples in leaf nodes\n",
        "                               min_samples_leaf=10, \n",
        "                               \n",
        "                               # Change the number of trees to use\n",
        "                               n_estimators=20, \n",
        "                               \n",
        "                               n_jobs=-1, random_state=5)\n",
        "\n",
        "# Run the function get_model_results\n",
        "get_model_results(X_train, y_train, X_test, y_test, model)"
      ],
      "execution_count": null,
      "outputs": [
        {
          "output_type": "stream",
          "text": [
            "              precision    recall  f1-score   support\n",
            "\n",
            "         0.0       1.00      1.00      1.00     85296\n",
            "         1.0       0.86      0.80      0.83       147\n",
            "\n",
            "    accuracy                           1.00     85443\n",
            "   macro avg       0.93      0.90      0.91     85443\n",
            "weighted avg       1.00      1.00      1.00     85443\n",
            "\n",
            "[[85277    19]\n",
            " [   30   117]]\n"
          ],
          "name": "stdout"
        }
      ]
    },
    {
      "cell_type": "markdown",
      "metadata": {
        "id": "ey8l8jNr78of",
        "colab_type": "text"
      },
      "source": [
        "You can see by smartly defining more options in the model, you can obtain better predictions. You have effectively reduced the number of false negatives, i.e. you are catching more cases of fraud, whilst keeping the number of false positives low. In this exercise we've manually changed the options of the model"
      ]
    },
    {
      "cell_type": "markdown",
      "metadata": {
        "id": "yPrI7RN27_7q",
        "colab_type": "text"
      },
      "source": [
        "###**3.8 GridSearchCV to find optimal parameters**"
      ]
    },
    {
      "cell_type": "code",
      "metadata": {
        "id": "poxQnht08JA-",
        "colab_type": "code",
        "colab": {}
      },
      "source": [
        "from sklearn.model_selection import GridSearchCV"
      ],
      "execution_count": null,
      "outputs": []
    },
    {
      "cell_type": "code",
      "metadata": {
        "id": "rwO_LNAT8POR",
        "colab_type": "code",
        "colab": {
          "base_uri": "https://localhost:8080/",
          "height": 85
        },
        "outputId": "9e418146-ea2f-4350-eb1b-7504f096d290"
      },
      "source": [
        "# Define the parameter sets to test\n",
        "param_grid = {\n",
        "    'n_estimators': [1, 30], \n",
        "    'max_features': ['auto', 'log2'],  \n",
        "    'max_depth': [4, 8], \n",
        "    'criterion': ['gini', 'entropy']\n",
        "}\n",
        "\n",
        "# Define the model to use\n",
        "model = RandomForestClassifier(random_state=5) \n",
        "\n",
        "# Combine the parameter sets with the defined model\n",
        "CV_model = GridSearchCV(estimator=model, param_grid=param_grid, cv=5, scoring='recall', n_jobs=-1) \n",
        "\n",
        "# Fit the model to our training data and obtain best parameters\n",
        "CV_model.fit(X_train, y_train)\n",
        "CV_model.best_params_"
      ],
      "execution_count": null,
      "outputs": [
        {
          "output_type": "execute_result",
          "data": {
            "text/plain": [
              "{'criterion': 'entropy',\n",
              " 'max_depth': 8,\n",
              " 'max_features': 'auto',\n",
              " 'n_estimators': 30}"
            ]
          },
          "metadata": {
            "tags": []
          },
          "execution_count": 44
        }
      ]
    },
    {
      "cell_type": "markdown",
      "metadata": {
        "id": "2cDFEN7j-9Yi",
        "colab_type": "text"
      },
      "source": [
        "###**3.9 Model results using GridSearchCV**"
      ]
    },
    {
      "cell_type": "code",
      "metadata": {
        "id": "28SK9nzO_Fcq",
        "colab_type": "code",
        "colab": {
          "base_uri": "https://localhost:8080/",
          "height": 204
        },
        "outputId": "d23cf6c8-fe16-4b5d-fa82-0a9b89c7366a"
      },
      "source": [
        "# Input the optimal parameters in the model\n",
        "model = RandomForestClassifier(class_weight={0:1,1:12}, \n",
        "                               criterion='gini',\n",
        "                               n_estimators=30, \n",
        "                               max_features='log2',  \n",
        "                               min_samples_leaf=10, \n",
        "                               max_depth=8,\n",
        "                               n_jobs=-1, random_state=5)\n",
        "\n",
        "# Get results from your model\n",
        "get_model_results(X_train, y_train, X_test, y_test, model)"
      ],
      "execution_count": null,
      "outputs": [
        {
          "output_type": "stream",
          "text": [
            "              precision    recall  f1-score   support\n",
            "\n",
            "         0.0       1.00      1.00      1.00     85296\n",
            "         1.0       0.83      0.80      0.82       147\n",
            "\n",
            "    accuracy                           1.00     85443\n",
            "   macro avg       0.92      0.90      0.91     85443\n",
            "weighted avg       1.00      1.00      1.00     85443\n",
            "\n",
            "[[85272    24]\n",
            " [   29   118]]\n"
          ],
          "name": "stdout"
        }
      ]
    },
    {
      "cell_type": "markdown",
      "metadata": {
        "id": "YL8v4VBU_TUU",
        "colab_type": "text"
      },
      "source": [
        "we've managed to improve our model even further. The number of false positives has now been slightly reduced even further, which means we are catching more cases of fraud. However, we see that the number of false negatives is still the same. That is that Precision-Recall trade-off in action. To decide which final model is best, you need to take into account how bad it is not to catch fraudsters, versus how many false positives the fraud analytics team can deal with."
      ]
    },
    {
      "cell_type": "markdown",
      "metadata": {
        "id": "rJ5drBE3AP7Q",
        "colab_type": "text"
      },
      "source": [
        "###**3.10 Annomaly Detection technique**\n",
        "\n",
        "Now that we have processed our data, we can begin deploying our machine learning algorithms. We will use the following techniques:\n",
        "\n",
        "**Local Outlier Factor (LOF)**\n",
        "\n",
        "The anomaly score of each sample is called Local Outlier Factor. It measures the local deviation of density of a given sample with respect to its neighbors. It is local in that the anomaly score depends on how isolated the object is with respect to the surrounding neighborhood.\n",
        "\n",
        "**Isolation Forest Algorithm**\n",
        "\n",
        "The IsolationForest ‘isolates’ observations by randomly selecting a feature and then randomly selecting a split value between the maximum and minimum values of the selected feature.\n",
        "\n",
        "Since recursive partitioning can be represented by a tree structure, the number of splittings required to isolate a sample is equivalent to the path length from the root node to the terminating node.\n",
        "\n",
        "This path length, averaged over a forest of such random trees, is a measure of normality and our decision function.\n",
        "\n",
        "Random partitioning produces noticeably shorter paths for anomalies. Hence, when a forest of random trees collectively produce shorter path lengths for particular samples, they are highly likely to be anomalies."
      ]
    },
    {
      "cell_type": "code",
      "metadata": {
        "id": "ZiPXbDdWCRPd",
        "colab_type": "code",
        "colab": {
          "base_uri": "https://localhost:8080/",
          "height": 51
        },
        "outputId": "cb1b89e0-e1ef-4a1f-95e1-bc59e5b58352"
      },
      "source": [
        "# Get all the columns from the dataFrame\n",
        "columns = data.columns.tolist()\n",
        "\n",
        "# Filter the columns to remove data we do not want\n",
        "columns = [c for c in columns if c not in [\"Class\"]]\n",
        "\n",
        "# Store the variable we'll be predicting on\n",
        "target = \"Class\"\n",
        "\n",
        "X = data[columns]\n",
        "Y = data[target]\n",
        "\n",
        "# Print shapes\n",
        "print(X.shape)\n",
        "print(Y.shape)"
      ],
      "execution_count": null,
      "outputs": [
        {
          "output_type": "stream",
          "text": [
            "(28481, 30)\n",
            "(28481,)\n"
          ],
          "name": "stdout"
        }
      ]
    },
    {
      "cell_type": "code",
      "metadata": {
        "id": "cgC1ytdhAZO6",
        "colab_type": "code",
        "colab": {}
      },
      "source": [
        "from sklearn.metrics import classification_report, accuracy_score\n",
        "from sklearn.ensemble import IsolationForest\n",
        "from sklearn.neighbors import LocalOutlierFactor\n",
        "# define random states\n",
        "state = 1\n",
        "# define outlier detection tools to be compared\n",
        "classifiers = {\n",
        "    \"Isolation Forest\": IsolationForest(max_samples=len(X),\n",
        "                                        contamination=outlier_fraction,\n",
        "                                        random_state=state),\n",
        "    \"Local Outlier Factor\": LocalOutlierFactor(\n",
        "        n_neighbors=20,\n",
        "        contamination=outlier_fraction)}"
      ],
      "execution_count": null,
      "outputs": []
    },
    {
      "cell_type": "code",
      "metadata": {
        "id": "zql78QHaAfHC",
        "colab_type": "code",
        "colab": {
          "base_uri": "https://localhost:8080/",
          "height": 408
        },
        "outputId": "3b82cf08-9943-4848-96a7-e921150464c2"
      },
      "source": [
        "# Fit the model\n",
        "plt.figure(figsize=(9, 7))\n",
        "n_outliers = len(Fraud)\n",
        "for i, (clf_name, clf) in enumerate(classifiers.items()):\n",
        "    # fit the data and tag outliers\n",
        "    if clf_name == \"Local Outlier Factor\":\n",
        "        y_pred = clf.fit_predict(X)\n",
        "        scores_pred = clf.negative_outlier_factor_\n",
        "    else:\n",
        "        clf.fit(X)\n",
        "        scores_pred = clf.decision_function(X)\n",
        "        y_pred = clf.predict(X)\n",
        "    # Reshape the prediction values to 0 for valid, 1 for fraud. \n",
        "    y_pred[y_pred == 1] = 0\n",
        "    y_pred[y_pred == -1] = 1\n",
        "    \n",
        "    n_errors = (y_pred != Y).sum()\n",
        "  \n",
        "    # Run classification metrics\n",
        "    print('{}: {}'.format(clf_name, n_errors))\n",
        "    print(accuracy_score(Y, y_pred))\n",
        "    print(classification_report(Y, y_pred))"
      ],
      "execution_count": null,
      "outputs": [
        {
          "output_type": "stream",
          "text": [
            "Isolation Forest: 71\n",
            "0.99750711000316\n",
            "              precision    recall  f1-score   support\n",
            "\n",
            "           0       1.00      1.00      1.00     28432\n",
            "           1       0.28      0.29      0.28        49\n",
            "\n",
            "    accuracy                           1.00     28481\n",
            "   macro avg       0.64      0.64      0.64     28481\n",
            "weighted avg       1.00      1.00      1.00     28481\n",
            "\n",
            "Local Outlier Factor: 97\n",
            "0.9965942207085425\n",
            "              precision    recall  f1-score   support\n",
            "\n",
            "           0       1.00      1.00      1.00     28432\n",
            "           1       0.02      0.02      0.02        49\n",
            "\n",
            "    accuracy                           1.00     28481\n",
            "   macro avg       0.51      0.51      0.51     28481\n",
            "weighted avg       1.00      1.00      1.00     28481\n",
            "\n"
          ],
          "name": "stdout"
        },
        {
          "output_type": "display_data",
          "data": {
            "text/plain": [
              "<Figure size 648x504 with 0 Axes>"
            ]
          },
          "metadata": {
            "tags": []
          }
        }
      ]
    },
    {
      "cell_type": "markdown",
      "metadata": {
        "id": "VN-uJNGlbSau",
        "colab_type": "text"
      },
      "source": [
        "### **4.1 Using Keras to handle Imbalanced Classification Problem**"
      ]
    },
    {
      "cell_type": "code",
      "metadata": {
        "id": "c_9oxnLScmW7",
        "colab_type": "code",
        "colab": {
          "base_uri": "https://localhost:8080/",
          "height": 105
        },
        "outputId": "311337e6-b693-452a-e94e-6941ca5bc74e"
      },
      "source": [
        "import csv\n",
        "import numpy as np\n",
        "\n",
        "# Get the real data from https://www.kaggle.com/mlg-ulb/creditcardfraud/\n",
        "fname = \"/content/gdrive/My Drive/creditcard.csv\"\n",
        "\n",
        "all_features = []\n",
        "all_targets = []\n",
        "with open(fname) as f:\n",
        "    for i, line in enumerate(f):\n",
        "        if i == 0:\n",
        "            print(\"HEADER:\", line.strip())\n",
        "            continue  # Skip header\n",
        "        fields = line.strip().split(\",\")\n",
        "        all_features.append([float(v.replace('\"', \"\")) for v in fields[:-1]])\n",
        "        all_targets.append([int(fields[-1].replace('\"', \"\"))])\n",
        "        if i == 1:\n",
        "            print(\"EXAMPLE FEATURES:\", all_features[-1])\n",
        "\n",
        "features = np.array(all_features, dtype=\"float32\")\n",
        "targets = np.array(all_targets, dtype=\"uint8\")\n",
        "print(\"features.shape:\", features.shape)\n",
        "print(\"targets.shape:\", targets.shape)\n"
      ],
      "execution_count": null,
      "outputs": [
        {
          "output_type": "stream",
          "text": [
            "HEADER: \"Time\",\"V1\",\"V2\",\"V3\",\"V4\",\"V5\",\"V6\",\"V7\",\"V8\",\"V9\",\"V10\",\"V11\",\"V12\",\"V13\",\"V14\",\"V15\",\"V16\",\"V17\",\"V18\",\"V19\",\"V20\",\"V21\",\"V22\",\"V23\",\"V24\",\"V25\",\"V26\",\"V27\",\"V28\",\"Amount\",\"Class\"\n",
            "EXAMPLE FEATURES: [0.0, -1.3598071336738, -0.0727811733098497, 2.53634673796914, 1.37815522427443, -0.338320769942518, 0.462387777762292, 0.239598554061257, 0.0986979012610507, 0.363786969611213, 0.0907941719789316, -0.551599533260813, -0.617800855762348, -0.991389847235408, -0.311169353699879, 1.46817697209427, -0.470400525259478, 0.207971241929242, 0.0257905801985591, 0.403992960255733, 0.251412098239705, -0.018306777944153, 0.277837575558899, -0.110473910188767, 0.0669280749146731, 0.128539358273528, -0.189114843888824, 0.133558376740387, -0.0210530534538215, 149.62]\n",
            "features.shape: (284807, 30)\n",
            "targets.shape: (284807, 1)\n"
          ],
          "name": "stdout"
        }
      ]
    },
    {
      "cell_type": "markdown",
      "metadata": {
        "id": "E22n3CA7eKx4",
        "colab_type": "text"
      },
      "source": [
        "###**4.2 Preperation of a Validation Set**"
      ]
    },
    {
      "cell_type": "code",
      "metadata": {
        "id": "ax32ONpdcf2R",
        "colab_type": "code",
        "colab": {
          "base_uri": "https://localhost:8080/",
          "height": 51
        },
        "outputId": "2af9c46f-3400-4a35-9285-30be1e12f699"
      },
      "source": [
        "num_val_samples = int(len(features) * 0.2)\n",
        "train_features = features[:-num_val_samples]\n",
        "train_targets = targets[:-num_val_samples]\n",
        "val_features = features[-num_val_samples:]\n",
        "val_targets = targets[-num_val_samples:]\n",
        "\n",
        "print(\"Number of training samples:\", len(train_features))\n",
        "print(\"Number of validation samples:\", len(val_features))"
      ],
      "execution_count": null,
      "outputs": [
        {
          "output_type": "stream",
          "text": [
            "Number of training samples: 227846\n",
            "Number of validation samples: 56961\n"
          ],
          "name": "stdout"
        }
      ]
    },
    {
      "cell_type": "markdown",
      "metadata": {
        "id": "0Kfi1AzDeaKR",
        "colab_type": "text"
      },
      "source": [
        "###**4.3 Analyze class imbalance in the targets**\n"
      ]
    },
    {
      "cell_type": "code",
      "metadata": {
        "id": "1yo2l7qXejk6",
        "colab_type": "code",
        "colab": {
          "base_uri": "https://localhost:8080/",
          "height": 34
        },
        "outputId": "a298610e-e83e-4b92-a59d-0530f2a75a4b"
      },
      "source": [
        "counts = np.bincount(train_targets[:, 0])\n",
        "print(\n",
        "    \"Number of positive samples in training data: {} ({:.2f}% of total)\".format(\n",
        "        counts[1], 100 * float(counts[1]) / len(train_targets)\n",
        "    )\n",
        ")\n",
        "\n",
        "weight_for_0 = 1.0 / counts[0]\n",
        "weight_for_1 = 1.0 / counts[1]\n"
      ],
      "execution_count": null,
      "outputs": [
        {
          "output_type": "stream",
          "text": [
            "Number of positive samples in training data: 417 (0.18% of total)\n"
          ],
          "name": "stdout"
        }
      ]
    },
    {
      "cell_type": "markdown",
      "metadata": {
        "id": "zgLuaZq0etQk",
        "colab_type": "text"
      },
      "source": [
        "###**4.4 Normalize the data using training set statistics**"
      ]
    },
    {
      "cell_type": "code",
      "metadata": {
        "id": "OPmeGgnFe0ar",
        "colab_type": "code",
        "colab": {}
      },
      "source": [
        "mean = np.mean(train_features, axis=0)\n",
        "train_features -= mean\n",
        "val_features -= mean\n",
        "std = np.std(train_features, axis=0)\n",
        "train_features /= std\n",
        "val_features /= std"
      ],
      "execution_count": null,
      "outputs": []
    },
    {
      "cell_type": "markdown",
      "metadata": {
        "id": "fofG7T4re8JB",
        "colab_type": "text"
      },
      "source": [
        "###**4.5 Build a binary classification model**"
      ]
    },
    {
      "cell_type": "code",
      "metadata": {
        "id": "pcg7-m_AeqZZ",
        "colab_type": "code",
        "colab": {
          "base_uri": "https://localhost:8080/",
          "height": 357
        },
        "outputId": "d2e03929-c449-4daf-d379-b6de56a25d35"
      },
      "source": [
        "from tensorflow import keras\n",
        "\n",
        "model = keras.Sequential(\n",
        "    [\n",
        "        keras.layers.Dense(\n",
        "            256, activation=\"relu\", input_shape=(train_features.shape[-1],)\n",
        "        ),\n",
        "        keras.layers.Dense(256, activation=\"relu\"),\n",
        "        keras.layers.Dropout(0.3),\n",
        "        keras.layers.Dense(256, activation=\"relu\"),\n",
        "        keras.layers.Dropout(0.3),\n",
        "        keras.layers.Dense(1, activation=\"sigmoid\"),\n",
        "    ]\n",
        ")\n",
        "model.summary()\n"
      ],
      "execution_count": null,
      "outputs": [
        {
          "output_type": "stream",
          "text": [
            "Model: \"sequential\"\n",
            "_________________________________________________________________\n",
            "Layer (type)                 Output Shape              Param #   \n",
            "=================================================================\n",
            "dense (Dense)                (None, 256)               7936      \n",
            "_________________________________________________________________\n",
            "dense_1 (Dense)              (None, 256)               65792     \n",
            "_________________________________________________________________\n",
            "dropout (Dropout)            (None, 256)               0         \n",
            "_________________________________________________________________\n",
            "dense_2 (Dense)              (None, 256)               65792     \n",
            "_________________________________________________________________\n",
            "dropout_1 (Dropout)          (None, 256)               0         \n",
            "_________________________________________________________________\n",
            "dense_3 (Dense)              (None, 1)                 257       \n",
            "=================================================================\n",
            "Total params: 139,777\n",
            "Trainable params: 139,777\n",
            "Non-trainable params: 0\n",
            "_________________________________________________________________\n"
          ],
          "name": "stdout"
        }
      ]
    },
    {
      "cell_type": "markdown",
      "metadata": {
        "id": "4v5yKi4RfLnv",
        "colab_type": "text"
      },
      "source": [
        "###**4.6 Train the model with class_weight argument**"
      ]
    },
    {
      "cell_type": "code",
      "metadata": {
        "id": "_asWJ1XzfTaz",
        "colab_type": "code",
        "colab": {
          "base_uri": "https://localhost:8080/",
          "height": 1000
        },
        "outputId": "9540229e-12b0-4024-8865-69aa679466ab"
      },
      "source": [
        "metrics = [\n",
        "    keras.metrics.FalseNegatives(name=\"fn\"),\n",
        "    keras.metrics.FalsePositives(name=\"fp\"),\n",
        "    keras.metrics.TrueNegatives(name=\"tn\"),\n",
        "    keras.metrics.TruePositives(name=\"tp\"),\n",
        "    keras.metrics.Precision(name=\"precision\"),\n",
        "    keras.metrics.Recall(name=\"recall\"),\n",
        "]\n",
        "\n",
        "model.compile(\n",
        "    optimizer=keras.optimizers.Adam(1e-2), loss=\"binary_crossentropy\", metrics=metrics\n",
        ")\n",
        "\n",
        "callbacks = [keras.callbacks.ModelCheckpoint(\"fraud_model_at_epoch_{epoch}.h5\")]\n",
        "class_weight = {0: weight_for_0, 1: weight_for_1}\n",
        "\n",
        "model.fit(\n",
        "    train_features,\n",
        "    train_targets,\n",
        "    batch_size=2048,\n",
        "    epochs=50,\n",
        "    verbose=2,\n",
        "    callbacks=callbacks,\n",
        "    validation_data=(val_features, val_targets),\n",
        "    class_weight=class_weight,\n",
        ")\n"
      ],
      "execution_count": null,
      "outputs": [
        {
          "output_type": "stream",
          "text": [
            "Epoch 1/50\n",
            "112/112 - 6s - loss: 2.3339e-06 - fn: 39.0000 - fp: 28461.0000 - tn: 198968.0000 - tp: 378.0000 - precision: 0.0131 - recall: 0.9065 - val_loss: 0.0894 - val_fn: 10.0000 - val_fp: 907.0000 - val_tn: 55979.0000 - val_tp: 65.0000 - val_precision: 0.0669 - val_recall: 0.8667\n",
            "Epoch 2/50\n",
            "112/112 - 5s - loss: 1.4917e-06 - fn: 34.0000 - fp: 7437.0000 - tn: 219992.0000 - tp: 383.0000 - precision: 0.0490 - recall: 0.9185 - val_loss: 0.0689 - val_fn: 10.0000 - val_fp: 795.0000 - val_tn: 56091.0000 - val_tp: 65.0000 - val_precision: 0.0756 - val_recall: 0.8667\n",
            "Epoch 3/50\n",
            "112/112 - 5s - loss: 1.1145e-06 - fn: 25.0000 - fp: 7096.0000 - tn: 220333.0000 - tp: 392.0000 - precision: 0.0524 - recall: 0.9400 - val_loss: 0.0602 - val_fn: 8.0000 - val_fp: 1051.0000 - val_tn: 55835.0000 - val_tp: 67.0000 - val_precision: 0.0599 - val_recall: 0.8933\n",
            "Epoch 4/50\n",
            "112/112 - 5s - loss: 1.2066e-06 - fn: 24.0000 - fp: 8319.0000 - tn: 219110.0000 - tp: 393.0000 - precision: 0.0451 - recall: 0.9424 - val_loss: 0.0760 - val_fn: 9.0000 - val_fp: 1418.0000 - val_tn: 55468.0000 - val_tp: 66.0000 - val_precision: 0.0445 - val_recall: 0.8800\n",
            "Epoch 5/50\n",
            "112/112 - 5s - loss: 9.0778e-07 - fn: 20.0000 - fp: 6598.0000 - tn: 220831.0000 - tp: 397.0000 - precision: 0.0568 - recall: 0.9520 - val_loss: 0.1311 - val_fn: 5.0000 - val_fp: 3074.0000 - val_tn: 53812.0000 - val_tp: 70.0000 - val_precision: 0.0223 - val_recall: 0.9333\n",
            "Epoch 6/50\n",
            "112/112 - 5s - loss: 9.0247e-07 - fn: 17.0000 - fp: 7799.0000 - tn: 219630.0000 - tp: 400.0000 - precision: 0.0488 - recall: 0.9592 - val_loss: 0.0423 - val_fn: 10.0000 - val_fp: 789.0000 - val_tn: 56097.0000 - val_tp: 65.0000 - val_precision: 0.0761 - val_recall: 0.8667\n",
            "Epoch 7/50\n",
            "112/112 - 5s - loss: 8.7707e-07 - fn: 18.0000 - fp: 7228.0000 - tn: 220201.0000 - tp: 399.0000 - precision: 0.0523 - recall: 0.9568 - val_loss: 0.0718 - val_fn: 8.0000 - val_fp: 1537.0000 - val_tn: 55349.0000 - val_tp: 67.0000 - val_precision: 0.0418 - val_recall: 0.8933\n",
            "Epoch 8/50\n",
            "112/112 - 5s - loss: 6.8391e-07 - fn: 13.0000 - fp: 5851.0000 - tn: 221578.0000 - tp: 404.0000 - precision: 0.0646 - recall: 0.9688 - val_loss: 0.0369 - val_fn: 10.0000 - val_fp: 846.0000 - val_tn: 56040.0000 - val_tp: 65.0000 - val_precision: 0.0714 - val_recall: 0.8667\n",
            "Epoch 9/50\n",
            "112/112 - 5s - loss: 6.4174e-07 - fn: 11.0000 - fp: 6893.0000 - tn: 220536.0000 - tp: 406.0000 - precision: 0.0556 - recall: 0.9736 - val_loss: 0.0223 - val_fn: 11.0000 - val_fp: 249.0000 - val_tn: 56637.0000 - val_tp: 64.0000 - val_precision: 0.2045 - val_recall: 0.8533\n",
            "Epoch 10/50\n",
            "112/112 - 5s - loss: 7.2461e-07 - fn: 16.0000 - fp: 6177.0000 - tn: 221252.0000 - tp: 401.0000 - precision: 0.0610 - recall: 0.9616 - val_loss: 0.1117 - val_fn: 5.0000 - val_fp: 2821.0000 - val_tn: 54065.0000 - val_tp: 70.0000 - val_precision: 0.0242 - val_recall: 0.9333\n",
            "Epoch 11/50\n",
            "112/112 - 5s - loss: 5.5815e-07 - fn: 10.0000 - fp: 6584.0000 - tn: 220845.0000 - tp: 407.0000 - precision: 0.0582 - recall: 0.9760 - val_loss: 0.0328 - val_fn: 8.0000 - val_fp: 626.0000 - val_tn: 56260.0000 - val_tp: 67.0000 - val_precision: 0.0967 - val_recall: 0.8933\n",
            "Epoch 12/50\n",
            "112/112 - 5s - loss: 4.5139e-07 - fn: 9.0000 - fp: 4682.0000 - tn: 222747.0000 - tp: 408.0000 - precision: 0.0802 - recall: 0.9784 - val_loss: 0.1004 - val_fn: 8.0000 - val_fp: 1988.0000 - val_tn: 54898.0000 - val_tp: 67.0000 - val_precision: 0.0326 - val_recall: 0.8933\n",
            "Epoch 13/50\n",
            "112/112 - 5s - loss: 5.1362e-07 - fn: 8.0000 - fp: 6779.0000 - tn: 220650.0000 - tp: 409.0000 - precision: 0.0569 - recall: 0.9808 - val_loss: 0.0789 - val_fn: 7.0000 - val_fp: 2107.0000 - val_tn: 54779.0000 - val_tp: 68.0000 - val_precision: 0.0313 - val_recall: 0.9067\n",
            "Epoch 14/50\n",
            "112/112 - 5s - loss: 3.9416e-06 - fn: 28.0000 - fp: 10841.0000 - tn: 216588.0000 - tp: 389.0000 - precision: 0.0346 - recall: 0.9329 - val_loss: 0.0321 - val_fn: 11.0000 - val_fp: 552.0000 - val_tn: 56334.0000 - val_tp: 64.0000 - val_precision: 0.1039 - val_recall: 0.8533\n",
            "Epoch 15/50\n",
            "112/112 - 5s - loss: 1.2850e-05 - fn: 25.0000 - fp: 8261.0000 - tn: 219168.0000 - tp: 392.0000 - precision: 0.0453 - recall: 0.9400 - val_loss: 0.0310 - val_fn: 13.0000 - val_fp: 70.0000 - val_tn: 56816.0000 - val_tp: 62.0000 - val_precision: 0.4697 - val_recall: 0.8267\n",
            "Epoch 16/50\n",
            "112/112 - 5s - loss: 1.8808e-06 - fn: 21.0000 - fp: 7917.0000 - tn: 219512.0000 - tp: 396.0000 - precision: 0.0476 - recall: 0.9496 - val_loss: 0.0673 - val_fn: 10.0000 - val_fp: 928.0000 - val_tn: 55958.0000 - val_tp: 65.0000 - val_precision: 0.0655 - val_recall: 0.8667\n",
            "Epoch 17/50\n",
            "112/112 - 5s - loss: 7.8339e-07 - fn: 14.0000 - fp: 5329.0000 - tn: 222100.0000 - tp: 403.0000 - precision: 0.0703 - recall: 0.9664 - val_loss: 0.0224 - val_fn: 10.0000 - val_fp: 372.0000 - val_tn: 56514.0000 - val_tp: 65.0000 - val_precision: 0.1487 - val_recall: 0.8667\n",
            "Epoch 18/50\n",
            "112/112 - 5s - loss: 5.0548e-07 - fn: 11.0000 - fp: 4376.0000 - tn: 223053.0000 - tp: 406.0000 - precision: 0.0849 - recall: 0.9736 - val_loss: 0.1908 - val_fn: 8.0000 - val_fp: 1369.0000 - val_tn: 55517.0000 - val_tp: 67.0000 - val_precision: 0.0467 - val_recall: 0.8933\n",
            "Epoch 19/50\n",
            "112/112 - 5s - loss: 9.2382e-07 - fn: 10.0000 - fp: 5888.0000 - tn: 221541.0000 - tp: 407.0000 - precision: 0.0647 - recall: 0.9760 - val_loss: 0.0334 - val_fn: 10.0000 - val_fp: 393.0000 - val_tn: 56493.0000 - val_tp: 65.0000 - val_precision: 0.1419 - val_recall: 0.8667\n",
            "Epoch 20/50\n",
            "112/112 - 5s - loss: 6.2431e-07 - fn: 9.0000 - fp: 4297.0000 - tn: 223132.0000 - tp: 408.0000 - precision: 0.0867 - recall: 0.9784 - val_loss: 0.0227 - val_fn: 10.0000 - val_fp: 504.0000 - val_tn: 56382.0000 - val_tp: 65.0000 - val_precision: 0.1142 - val_recall: 0.8667\n",
            "Epoch 21/50\n",
            "112/112 - 5s - loss: 4.2644e-07 - fn: 7.0000 - fp: 4314.0000 - tn: 223115.0000 - tp: 410.0000 - precision: 0.0868 - recall: 0.9832 - val_loss: 0.0565 - val_fn: 7.0000 - val_fp: 1102.0000 - val_tn: 55784.0000 - val_tp: 68.0000 - val_precision: 0.0581 - val_recall: 0.9067\n",
            "Epoch 22/50\n",
            "112/112 - 5s - loss: 5.1419e-07 - fn: 5.0000 - fp: 5551.0000 - tn: 221878.0000 - tp: 412.0000 - precision: 0.0691 - recall: 0.9880 - val_loss: 0.0601 - val_fn: 7.0000 - val_fp: 1903.0000 - val_tn: 54983.0000 - val_tp: 68.0000 - val_precision: 0.0345 - val_recall: 0.9067\n",
            "Epoch 23/50\n",
            "112/112 - 5s - loss: 6.7975e-07 - fn: 7.0000 - fp: 6547.0000 - tn: 220882.0000 - tp: 410.0000 - precision: 0.0589 - recall: 0.9832 - val_loss: 0.0322 - val_fn: 10.0000 - val_fp: 571.0000 - val_tn: 56315.0000 - val_tp: 65.0000 - val_precision: 0.1022 - val_recall: 0.8667\n",
            "Epoch 24/50\n",
            "112/112 - 5s - loss: 4.3239e-07 - fn: 5.0000 - fp: 4108.0000 - tn: 223321.0000 - tp: 412.0000 - precision: 0.0912 - recall: 0.9880 - val_loss: 0.0547 - val_fn: 9.0000 - val_fp: 1171.0000 - val_tn: 55715.0000 - val_tp: 66.0000 - val_precision: 0.0534 - val_recall: 0.8800\n",
            "Epoch 25/50\n",
            "112/112 - 5s - loss: 2.4266e-07 - fn: 2.0000 - fp: 2693.0000 - tn: 224736.0000 - tp: 415.0000 - precision: 0.1335 - recall: 0.9952 - val_loss: 0.0176 - val_fn: 9.0000 - val_fp: 325.0000 - val_tn: 56561.0000 - val_tp: 66.0000 - val_precision: 0.1688 - val_recall: 0.8800\n",
            "Epoch 26/50\n",
            "112/112 - 5s - loss: 5.0268e-07 - fn: 4.0000 - fp: 5212.0000 - tn: 222217.0000 - tp: 413.0000 - precision: 0.0734 - recall: 0.9904 - val_loss: 0.0386 - val_fn: 8.0000 - val_fp: 694.0000 - val_tn: 56192.0000 - val_tp: 67.0000 - val_precision: 0.0880 - val_recall: 0.8933\n",
            "Epoch 27/50\n",
            "112/112 - 5s - loss: 3.3548e-07 - fn: 3.0000 - fp: 3693.0000 - tn: 223736.0000 - tp: 414.0000 - precision: 0.1008 - recall: 0.9928 - val_loss: 0.0139 - val_fn: 9.0000 - val_fp: 272.0000 - val_tn: 56614.0000 - val_tp: 66.0000 - val_precision: 0.1953 - val_recall: 0.8800\n",
            "Epoch 28/50\n",
            "112/112 - 5s - loss: 2.0070e-07 - fn: 0.0000e+00 - fp: 2029.0000 - tn: 225400.0000 - tp: 417.0000 - precision: 0.1705 - recall: 1.0000 - val_loss: 0.0104 - val_fn: 11.0000 - val_fp: 162.0000 - val_tn: 56724.0000 - val_tp: 64.0000 - val_precision: 0.2832 - val_recall: 0.8533\n",
            "Epoch 29/50\n",
            "112/112 - 5s - loss: 1.9961e-07 - fn: 3.0000 - fp: 1898.0000 - tn: 225531.0000 - tp: 414.0000 - precision: 0.1791 - recall: 0.9928 - val_loss: 0.0169 - val_fn: 9.0000 - val_fp: 354.0000 - val_tn: 56532.0000 - val_tp: 66.0000 - val_precision: 0.1571 - val_recall: 0.8800\n",
            "Epoch 30/50\n",
            "112/112 - 5s - loss: 1.8322e-07 - fn: 3.0000 - fp: 1744.0000 - tn: 225685.0000 - tp: 414.0000 - precision: 0.1918 - recall: 0.9928 - val_loss: 0.0138 - val_fn: 10.0000 - val_fp: 201.0000 - val_tn: 56685.0000 - val_tp: 65.0000 - val_precision: 0.2444 - val_recall: 0.8667\n",
            "Epoch 31/50\n",
            "112/112 - 5s - loss: 2.6939e-07 - fn: 2.0000 - fp: 2341.0000 - tn: 225088.0000 - tp: 415.0000 - precision: 0.1506 - recall: 0.9952 - val_loss: 0.1288 - val_fn: 7.0000 - val_fp: 1802.0000 - val_tn: 55084.0000 - val_tp: 68.0000 - val_precision: 0.0364 - val_recall: 0.9067\n",
            "Epoch 32/50\n",
            "112/112 - 6s - loss: 2.3276e-07 - fn: 1.0000 - fp: 2774.0000 - tn: 224655.0000 - tp: 416.0000 - precision: 0.1304 - recall: 0.9976 - val_loss: 0.0122 - val_fn: 10.0000 - val_fp: 236.0000 - val_tn: 56650.0000 - val_tp: 65.0000 - val_precision: 0.2159 - val_recall: 0.8667\n",
            "Epoch 33/50\n",
            "112/112 - 7s - loss: 2.6027e-07 - fn: 2.0000 - fp: 3039.0000 - tn: 224390.0000 - tp: 415.0000 - precision: 0.1202 - recall: 0.9952 - val_loss: 0.0355 - val_fn: 7.0000 - val_fp: 717.0000 - val_tn: 56169.0000 - val_tp: 68.0000 - val_precision: 0.0866 - val_recall: 0.9067\n",
            "Epoch 34/50\n",
            "112/112 - 5s - loss: 2.0735e-07 - fn: 1.0000 - fp: 2632.0000 - tn: 224797.0000 - tp: 416.0000 - precision: 0.1365 - recall: 0.9976 - val_loss: 0.0206 - val_fn: 8.0000 - val_fp: 396.0000 - val_tn: 56490.0000 - val_tp: 67.0000 - val_precision: 0.1447 - val_recall: 0.8933\n",
            "Epoch 35/50\n",
            "112/112 - 5s - loss: 1.7212e-07 - fn: 1.0000 - fp: 1888.0000 - tn: 225541.0000 - tp: 416.0000 - precision: 0.1806 - recall: 0.9976 - val_loss: 0.0324 - val_fn: 9.0000 - val_fp: 669.0000 - val_tn: 56217.0000 - val_tp: 66.0000 - val_precision: 0.0898 - val_recall: 0.8800\n",
            "Epoch 36/50\n",
            "112/112 - 5s - loss: 1.3173e-07 - fn: 0.0000e+00 - fp: 1649.0000 - tn: 225780.0000 - tp: 417.0000 - precision: 0.2018 - recall: 1.0000 - val_loss: 0.0108 - val_fn: 13.0000 - val_fp: 169.0000 - val_tn: 56717.0000 - val_tp: 62.0000 - val_precision: 0.2684 - val_recall: 0.8267\n",
            "Epoch 37/50\n",
            "112/112 - 5s - loss: 1.1967e-07 - fn: 1.0000 - fp: 1414.0000 - tn: 226015.0000 - tp: 416.0000 - precision: 0.2273 - recall: 0.9976 - val_loss: 0.0128 - val_fn: 9.0000 - val_fp: 189.0000 - val_tn: 56697.0000 - val_tp: 66.0000 - val_precision: 0.2588 - val_recall: 0.8800\n",
            "Epoch 38/50\n",
            "112/112 - 5s - loss: 9.3732e-07 - fn: 5.0000 - fp: 4336.0000 - tn: 223093.0000 - tp: 412.0000 - precision: 0.0868 - recall: 0.9880 - val_loss: 0.0131 - val_fn: 9.0000 - val_fp: 275.0000 - val_tn: 56611.0000 - val_tp: 66.0000 - val_precision: 0.1935 - val_recall: 0.8800\n",
            "Epoch 39/50\n",
            "112/112 - 5s - loss: 1.4278e-06 - fn: 6.0000 - fp: 5256.0000 - tn: 222173.0000 - tp: 411.0000 - precision: 0.0725 - recall: 0.9856 - val_loss: 0.0177 - val_fn: 12.0000 - val_fp: 168.0000 - val_tn: 56718.0000 - val_tp: 63.0000 - val_precision: 0.2727 - val_recall: 0.8400\n",
            "Epoch 40/50\n",
            "112/112 - 5s - loss: 6.1496e-07 - fn: 8.0000 - fp: 4919.0000 - tn: 222510.0000 - tp: 409.0000 - precision: 0.0768 - recall: 0.9808 - val_loss: 0.0347 - val_fn: 10.0000 - val_fp: 698.0000 - val_tn: 56188.0000 - val_tp: 65.0000 - val_precision: 0.0852 - val_recall: 0.8667\n",
            "Epoch 41/50\n",
            "112/112 - 5s - loss: 4.7366e-07 - fn: 3.0000 - fp: 4156.0000 - tn: 223273.0000 - tp: 414.0000 - precision: 0.0906 - recall: 0.9928 - val_loss: 0.0188 - val_fn: 11.0000 - val_fp: 200.0000 - val_tn: 56686.0000 - val_tp: 64.0000 - val_precision: 0.2424 - val_recall: 0.8533\n",
            "Epoch 42/50\n",
            "112/112 - 5s - loss: 3.3759e-07 - fn: 2.0000 - fp: 2733.0000 - tn: 224696.0000 - tp: 415.0000 - precision: 0.1318 - recall: 0.9952 - val_loss: 0.0501 - val_fn: 8.0000 - val_fp: 843.0000 - val_tn: 56043.0000 - val_tp: 67.0000 - val_precision: 0.0736 - val_recall: 0.8933\n",
            "Epoch 43/50\n",
            "112/112 - 5s - loss: 2.4768e-07 - fn: 2.0000 - fp: 2329.0000 - tn: 225100.0000 - tp: 415.0000 - precision: 0.1512 - recall: 0.9952 - val_loss: 0.0207 - val_fn: 10.0000 - val_fp: 321.0000 - val_tn: 56565.0000 - val_tp: 65.0000 - val_precision: 0.1684 - val_recall: 0.8667\n",
            "Epoch 44/50\n",
            "112/112 - 5s - loss: 4.0459e-07 - fn: 1.0000 - fp: 1906.0000 - tn: 225523.0000 - tp: 416.0000 - precision: 0.1792 - recall: 0.9976 - val_loss: 0.2304 - val_fn: 9.0000 - val_fp: 549.0000 - val_tn: 56337.0000 - val_tp: 66.0000 - val_precision: 0.1073 - val_recall: 0.8800\n",
            "Epoch 45/50\n",
            "112/112 - 5s - loss: 8.6379e-07 - fn: 5.0000 - fp: 3247.0000 - tn: 224182.0000 - tp: 412.0000 - precision: 0.1126 - recall: 0.9880 - val_loss: 0.0536 - val_fn: 11.0000 - val_fp: 202.0000 - val_tn: 56684.0000 - val_tp: 64.0000 - val_precision: 0.2406 - val_recall: 0.8533\n",
            "Epoch 46/50\n",
            "112/112 - 5s - loss: 9.3121e-07 - fn: 4.0000 - fp: 2932.0000 - tn: 224497.0000 - tp: 413.0000 - precision: 0.1235 - recall: 0.9904 - val_loss: 0.1216 - val_fn: 10.0000 - val_fp: 311.0000 - val_tn: 56575.0000 - val_tp: 65.0000 - val_precision: 0.1729 - val_recall: 0.8667\n",
            "Epoch 47/50\n",
            "112/112 - 5s - loss: 2.0214e-06 - fn: 11.0000 - fp: 5299.0000 - tn: 222130.0000 - tp: 406.0000 - precision: 0.0712 - recall: 0.9736 - val_loss: 0.1332 - val_fn: 7.0000 - val_fp: 1538.0000 - val_tn: 55348.0000 - val_tp: 68.0000 - val_precision: 0.0423 - val_recall: 0.9067\n",
            "Epoch 48/50\n",
            "112/112 - 5s - loss: 9.2551e-07 - fn: 9.0000 - fp: 5495.0000 - tn: 221934.0000 - tp: 408.0000 - precision: 0.0691 - recall: 0.9784 - val_loss: 0.0390 - val_fn: 8.0000 - val_fp: 527.0000 - val_tn: 56359.0000 - val_tp: 67.0000 - val_precision: 0.1128 - val_recall: 0.8933\n",
            "Epoch 49/50\n",
            "112/112 - 5s - loss: 5.2147e-07 - fn: 6.0000 - fp: 3516.0000 - tn: 223913.0000 - tp: 411.0000 - precision: 0.1047 - recall: 0.9856 - val_loss: 0.0209 - val_fn: 10.0000 - val_fp: 289.0000 - val_tn: 56597.0000 - val_tp: 65.0000 - val_precision: 0.1836 - val_recall: 0.8667\n",
            "Epoch 50/50\n",
            "112/112 - 5s - loss: 4.8024e-07 - fn: 3.0000 - fp: 3581.0000 - tn: 223848.0000 - tp: 414.0000 - precision: 0.1036 - recall: 0.9928 - val_loss: 0.1029 - val_fn: 9.0000 - val_fp: 631.0000 - val_tn: 56255.0000 - val_tp: 66.0000 - val_precision: 0.0947 - val_recall: 0.8800\n"
          ],
          "name": "stdout"
        },
        {
          "output_type": "execute_result",
          "data": {
            "text/plain": [
              "<tensorflow.python.keras.callbacks.History at 0x7f6680838c50>"
            ]
          },
          "metadata": {
            "tags": []
          },
          "execution_count": 54
        }
      ]
    },
    {
      "cell_type": "markdown",
      "metadata": {
        "id": "UvQis-Mz5k9S",
        "colab_type": "text"
      },
      "source": [
        "At the end of training, out of 56255 validation transactions, we are:\n",
        "\n",
        "- Correctly identifying 66 of them as fraudulent\n",
        "- Missing 09 fraudulent transactions\n",
        "- At the cost of incorrectly flagging 631 legitimate transactions\n",
        "\n",
        "In the real world, one would put an even higher weight on class 1,\n",
        "so as to reflect that False Negatives are more costly than False Positives.\n"
      ]
    },
    {
      "cell_type": "markdown",
      "metadata": {
        "id": "3Dcs3PjJHWx4",
        "colab_type": "text"
      },
      "source": [
        "###**4.7 Adjusting baseline model**\n",
        "\n"
      ]
    },
    {
      "cell_type": "code",
      "metadata": {
        "id": "zQ385d7EoiN1",
        "colab_type": "code",
        "colab": {
          "base_uri": "https://localhost:8080/",
          "height": 595
        },
        "outputId": "bfa480fa-7954-4a73-f3d4-38712a869331"
      },
      "source": [
        "#Logistic regression using keras: \n",
        "from tensorflow import keras\n",
        "model = keras.Sequential()\n",
        "#First layer\n",
        "model.add(keras.layers.Dense(128, activation= 'relu', input_shape= (train_features.shape[1],)))\n",
        "model.add(keras.layers.BatchNormalization(axis=1)) #Batch normalization by each row after activation function to reduce outliers. \n",
        "model.add(keras.layers.Dropout(0.2))\n",
        "#Second layer: \n",
        "model.add(keras.layers.Dense(256, activation= 'relu'))\n",
        "model.add(keras.layers.BatchNormalization(axis= 1))\n",
        "model.add(keras.layers.Dropout(0.2))\n",
        "#Third layer\n",
        "model.add(keras.layers.Dense(256, activation= 'relu'))\n",
        "model.add(keras.layers.BatchNormalization(axis= 1))\n",
        "model.add(keras.layers.Dropout(0.2))\n",
        "#Fourth layer\n",
        "model.add(keras.layers.Dense(256, activation= 'relu'))\n",
        "model.add(keras.layers.BatchNormalization(axis= 1))\n",
        "model.add(keras.layers.Dropout(0.2))\n",
        "#Last layer\n",
        "model.add(keras.layers.Dense(1,activation= 'sigmoid'))\n",
        "\n",
        "model.summary()\n"
      ],
      "execution_count": null,
      "outputs": [
        {
          "output_type": "stream",
          "text": [
            "Model: \"sequential_1\"\n",
            "_________________________________________________________________\n",
            "Layer (type)                 Output Shape              Param #   \n",
            "=================================================================\n",
            "dense_4 (Dense)              (None, 128)               3968      \n",
            "_________________________________________________________________\n",
            "batch_normalization (BatchNo (None, 128)               512       \n",
            "_________________________________________________________________\n",
            "dropout_2 (Dropout)          (None, 128)               0         \n",
            "_________________________________________________________________\n",
            "dense_5 (Dense)              (None, 256)               33024     \n",
            "_________________________________________________________________\n",
            "batch_normalization_1 (Batch (None, 256)               1024      \n",
            "_________________________________________________________________\n",
            "dropout_3 (Dropout)          (None, 256)               0         \n",
            "_________________________________________________________________\n",
            "dense_6 (Dense)              (None, 256)               65792     \n",
            "_________________________________________________________________\n",
            "batch_normalization_2 (Batch (None, 256)               1024      \n",
            "_________________________________________________________________\n",
            "dropout_4 (Dropout)          (None, 256)               0         \n",
            "_________________________________________________________________\n",
            "dense_7 (Dense)              (None, 256)               65792     \n",
            "_________________________________________________________________\n",
            "batch_normalization_3 (Batch (None, 256)               1024      \n",
            "_________________________________________________________________\n",
            "dropout_5 (Dropout)          (None, 256)               0         \n",
            "_________________________________________________________________\n",
            "dense_8 (Dense)              (None, 1)                 257       \n",
            "=================================================================\n",
            "Total params: 172,417\n",
            "Trainable params: 170,625\n",
            "Non-trainable params: 1,792\n",
            "_________________________________________________________________\n"
          ],
          "name": "stdout"
        }
      ]
    },
    {
      "cell_type": "code",
      "metadata": {
        "id": "4sXunYwEohuT",
        "colab_type": "code",
        "colab": {
          "base_uri": "https://localhost:8080/",
          "height": 1000
        },
        "outputId": "bd09c834-d3e6-47df-ed6d-e03c8da6133b"
      },
      "source": [
        "#Loss function and backpropagation: \n",
        "#Adam optimizer: \n",
        "opt= keras.optimizers.Adam(learning_rate= 0.5, epsilon= 1e-05) #learning-rate is constant, need to be tuned\n",
        "\n",
        "#Metrics to determine performance of the model: \n",
        "metrics= [\n",
        "          keras.metrics.AUC(curve= 'ROC', name = 'AUC'), #measure the complementary between FalsePositive and TrueNegative\n",
        "          keras.metrics.FalseNegatives(name=\"fn\"),\n",
        "          keras.metrics.FalsePositives(name=\"fp\"),\n",
        "          keras.metrics.TrueNegatives(name=\"tn\"),\n",
        "          keras.metrics.TruePositives(name=\"tp\")\n",
        "]\n",
        "\n",
        "#Loss function: \n",
        "model.compile(loss= 'binary_crossentropy', optimizer= opt, metrics= metrics) \n",
        "\n",
        "\n",
        "#Save model parameters at each epoch checkpoint: \n",
        "model_checkpoint= keras.callbacks.ModelCheckpoint(\"fraud_model_at_epoch_{epoch}.h5\", save_freq= 'epoch')\n",
        "class_weight= {0: weight_for_0, 1: weight_for_1}\n",
        "#Fit the model: \n",
        "model.fit(train_features,\n",
        "    train_targets,\n",
        "    batch_size=2048,\n",
        "    epochs=50,\n",
        "    verbose=2,\n",
        "    callbacks=[model_checkpoint],\n",
        "    validation_data= (val_features, val_targets),\n",
        "    class_weight= class_weight)\n",
        "\n",
        "\n"
      ],
      "execution_count": null,
      "outputs": [
        {
          "output_type": "stream",
          "text": [
            "Epoch 1/50\n",
            "112/112 - 9s - loss: 2.8914e-06 - AUC: 0.9508 - fn: 36.0000 - fp: 37544.0000 - tn: 189885.0000 - tp: 381.0000 - val_loss: 0.1316 - val_AUC: 0.9762 - val_fn: 10.0000 - val_fp: 1061.0000 - val_tn: 55825.0000 - val_tp: 65.0000\n",
            "Epoch 2/50\n",
            "112/112 - 8s - loss: 2.9659e-06 - AUC: 0.9520 - fn: 40.0000 - fp: 17089.0000 - tn: 210340.0000 - tp: 377.0000 - val_loss: 0.4117 - val_AUC: 0.9730 - val_fn: 6.0000 - val_fp: 6784.0000 - val_tn: 50102.0000 - val_tp: 69.0000\n",
            "Epoch 3/50\n",
            "112/112 - 8s - loss: 3.1712e-06 - AUC: 0.9644 - fn: 37.0000 - fp: 16544.0000 - tn: 210885.0000 - tp: 380.0000 - val_loss: 0.2575 - val_AUC: 0.9293 - val_fn: 8.0000 - val_fp: 3650.0000 - val_tn: 53236.0000 - val_tp: 67.0000\n",
            "Epoch 4/50\n",
            "112/112 - 8s - loss: 4.5833e-06 - AUC: 0.9607 - fn: 37.0000 - fp: 15996.0000 - tn: 211433.0000 - tp: 380.0000 - val_loss: 0.9998 - val_AUC: 0.9678 - val_fn: 3.0000 - val_fp: 5897.0000 - val_tn: 50989.0000 - val_tp: 72.0000\n",
            "Epoch 5/50\n",
            "112/112 - 8s - loss: 4.9892e-06 - AUC: 0.9604 - fn: 36.0000 - fp: 17607.0000 - tn: 209822.0000 - tp: 381.0000 - val_loss: 1.4106 - val_AUC: 0.9472 - val_fn: 8.0000 - val_fp: 5081.0000 - val_tn: 51805.0000 - val_tp: 67.0000\n",
            "Epoch 6/50\n",
            "112/112 - 8s - loss: 4.8674e-06 - AUC: 0.9681 - fn: 31.0000 - fp: 13454.0000 - tn: 213975.0000 - tp: 386.0000 - val_loss: 0.1316 - val_AUC: 0.9886 - val_fn: 9.0000 - val_fp: 1708.0000 - val_tn: 55178.0000 - val_tp: 66.0000\n",
            "Epoch 7/50\n",
            "112/112 - 8s - loss: 2.3591e-06 - AUC: 0.9765 - fn: 28.0000 - fp: 13108.0000 - tn: 214321.0000 - tp: 389.0000 - val_loss: 0.0197 - val_AUC: 0.9823 - val_fn: 16.0000 - val_fp: 43.0000 - val_tn: 56843.0000 - val_tp: 59.0000\n",
            "Epoch 8/50\n",
            "112/112 - 8s - loss: 1.5047e-06 - AUC: 0.9863 - fn: 27.0000 - fp: 9225.0000 - tn: 218204.0000 - tp: 390.0000 - val_loss: 0.1179 - val_AUC: 0.9918 - val_fn: 6.0000 - val_fp: 2389.0000 - val_tn: 54497.0000 - val_tp: 69.0000\n",
            "Epoch 9/50\n",
            "112/112 - 8s - loss: 1.4808e-06 - AUC: 0.9905 - fn: 23.0000 - fp: 8754.0000 - tn: 218675.0000 - tp: 394.0000 - val_loss: 0.0846 - val_AUC: 0.9899 - val_fn: 8.0000 - val_fp: 1251.0000 - val_tn: 55635.0000 - val_tp: 67.0000\n",
            "Epoch 10/50\n",
            "112/112 - 8s - loss: 1.3186e-06 - AUC: 0.9931 - fn: 20.0000 - fp: 8467.0000 - tn: 218962.0000 - tp: 397.0000 - val_loss: 0.0840 - val_AUC: 0.9931 - val_fn: 6.0000 - val_fp: 1130.0000 - val_tn: 55756.0000 - val_tp: 69.0000\n",
            "Epoch 11/50\n",
            "112/112 - 8s - loss: 1.2546e-06 - AUC: 0.9922 - fn: 20.0000 - fp: 8753.0000 - tn: 218676.0000 - tp: 397.0000 - val_loss: 0.0356 - val_AUC: 0.9913 - val_fn: 9.0000 - val_fp: 454.0000 - val_tn: 56432.0000 - val_tp: 66.0000\n",
            "Epoch 12/50\n",
            "112/112 - 8s - loss: 8.6087e-07 - AUC: 0.9955 - fn: 15.0000 - fp: 6816.0000 - tn: 220613.0000 - tp: 402.0000 - val_loss: 0.0252 - val_AUC: 0.9862 - val_fn: 12.0000 - val_fp: 253.0000 - val_tn: 56633.0000 - val_tp: 63.0000\n",
            "Epoch 13/50\n",
            "112/112 - 8s - loss: 9.0796e-07 - AUC: 0.9948 - fn: 16.0000 - fp: 6810.0000 - tn: 220619.0000 - tp: 401.0000 - val_loss: 0.0603 - val_AUC: 0.9915 - val_fn: 7.0000 - val_fp: 1056.0000 - val_tn: 55830.0000 - val_tp: 68.0000\n",
            "Epoch 14/50\n",
            "112/112 - 8s - loss: 2.3378e-06 - AUC: 0.9871 - fn: 19.0000 - fp: 7630.0000 - tn: 219799.0000 - tp: 398.0000 - val_loss: 0.2191 - val_AUC: 0.9848 - val_fn: 5.0000 - val_fp: 3730.0000 - val_tn: 53156.0000 - val_tp: 70.0000\n",
            "Epoch 15/50\n",
            "112/112 - 8s - loss: 1.9355e-06 - AUC: 0.9901 - fn: 18.0000 - fp: 8874.0000 - tn: 218555.0000 - tp: 399.0000 - val_loss: 0.0363 - val_AUC: 0.9846 - val_fn: 11.0000 - val_fp: 290.0000 - val_tn: 56596.0000 - val_tp: 64.0000\n",
            "Epoch 16/50\n",
            "112/112 - 8s - loss: 1.3040e-06 - AUC: 0.9943 - fn: 17.0000 - fp: 7778.0000 - tn: 219651.0000 - tp: 400.0000 - val_loss: 0.0204 - val_AUC: 0.9895 - val_fn: 12.0000 - val_fp: 110.0000 - val_tn: 56776.0000 - val_tp: 63.0000\n",
            "Epoch 17/50\n",
            "112/112 - 8s - loss: 1.0986e-06 - AUC: 0.9941 - fn: 17.0000 - fp: 7025.0000 - tn: 220404.0000 - tp: 400.0000 - val_loss: 0.0669 - val_AUC: 0.9757 - val_fn: 10.0000 - val_fp: 939.0000 - val_tn: 55947.0000 - val_tp: 65.0000\n",
            "Epoch 18/50\n",
            "112/112 - 8s - loss: 9.4693e-07 - AUC: 0.9948 - fn: 13.0000 - fp: 6576.0000 - tn: 220853.0000 - tp: 404.0000 - val_loss: 0.0223 - val_AUC: 0.9846 - val_fn: 11.0000 - val_fp: 276.0000 - val_tn: 56610.0000 - val_tp: 64.0000\n",
            "Epoch 19/50\n",
            "112/112 - 8s - loss: 6.1873e-07 - AUC: 0.9976 - fn: 12.0000 - fp: 5224.0000 - tn: 222205.0000 - tp: 405.0000 - val_loss: 0.0159 - val_AUC: 0.9668 - val_fn: 12.0000 - val_fp: 196.0000 - val_tn: 56690.0000 - val_tp: 63.0000\n",
            "Epoch 20/50\n",
            "112/112 - 8s - loss: 6.6307e-07 - AUC: 0.9972 - fn: 10.0000 - fp: 5519.0000 - tn: 221910.0000 - tp: 407.0000 - val_loss: 0.0355 - val_AUC: 0.9789 - val_fn: 9.0000 - val_fp: 525.0000 - val_tn: 56361.0000 - val_tp: 66.0000\n",
            "Epoch 21/50\n",
            "112/112 - 8s - loss: 6.4695e-07 - AUC: 0.9969 - fn: 9.0000 - fp: 5483.0000 - tn: 221946.0000 - tp: 408.0000 - val_loss: 0.0084 - val_AUC: 0.9450 - val_fn: 13.0000 - val_fp: 106.0000 - val_tn: 56780.0000 - val_tp: 62.0000\n",
            "Epoch 22/50\n",
            "112/112 - 8s - loss: 7.1374e-07 - AUC: 0.9962 - fn: 10.0000 - fp: 5400.0000 - tn: 222029.0000 - tp: 407.0000 - val_loss: 0.0388 - val_AUC: 0.9831 - val_fn: 9.0000 - val_fp: 565.0000 - val_tn: 56321.0000 - val_tp: 66.0000\n",
            "Epoch 23/50\n",
            "112/112 - 8s - loss: 1.1649e-06 - AUC: 0.9975 - fn: 8.0000 - fp: 4129.0000 - tn: 223300.0000 - tp: 409.0000 - val_loss: 0.0818 - val_AUC: 0.9765 - val_fn: 9.0000 - val_fp: 964.0000 - val_tn: 55922.0000 - val_tp: 66.0000\n",
            "Epoch 24/50\n",
            "112/112 - 8s - loss: 1.0484e-06 - AUC: 0.9971 - fn: 8.0000 - fp: 5049.0000 - tn: 222380.0000 - tp: 409.0000 - val_loss: 0.0672 - val_AUC: 0.9708 - val_fn: 7.0000 - val_fp: 1016.0000 - val_tn: 55870.0000 - val_tp: 68.0000\n",
            "Epoch 25/50\n",
            "112/112 - 8s - loss: 8.8973e-07 - AUC: 0.9971 - fn: 10.0000 - fp: 5310.0000 - tn: 222119.0000 - tp: 407.0000 - val_loss: 0.0407 - val_AUC: 0.9813 - val_fn: 8.0000 - val_fp: 535.0000 - val_tn: 56351.0000 - val_tp: 67.0000\n",
            "Epoch 26/50\n",
            "112/112 - 8s - loss: 6.2387e-07 - AUC: 0.9981 - fn: 6.0000 - fp: 4234.0000 - tn: 223195.0000 - tp: 411.0000 - val_loss: 0.0201 - val_AUC: 0.9657 - val_fn: 11.0000 - val_fp: 254.0000 - val_tn: 56632.0000 - val_tp: 64.0000\n",
            "Epoch 27/50\n",
            "112/112 - 8s - loss: 5.0714e-07 - AUC: 0.9980 - fn: 6.0000 - fp: 4416.0000 - tn: 223013.0000 - tp: 411.0000 - val_loss: 0.0588 - val_AUC: 0.9812 - val_fn: 6.0000 - val_fp: 1149.0000 - val_tn: 55737.0000 - val_tp: 69.0000\n",
            "Epoch 28/50\n",
            "112/112 - 8s - loss: 5.2883e-07 - AUC: 0.9980 - fn: 8.0000 - fp: 4585.0000 - tn: 222844.0000 - tp: 409.0000 - val_loss: 0.0214 - val_AUC: 0.9798 - val_fn: 10.0000 - val_fp: 275.0000 - val_tn: 56611.0000 - val_tp: 65.0000\n",
            "Epoch 29/50\n",
            "112/112 - 8s - loss: 6.1839e-07 - AUC: 0.9972 - fn: 11.0000 - fp: 4973.0000 - tn: 222456.0000 - tp: 406.0000 - val_loss: 0.0160 - val_AUC: 0.9726 - val_fn: 13.0000 - val_fp: 226.0000 - val_tn: 56660.0000 - val_tp: 62.0000\n",
            "Epoch 30/50\n",
            "112/112 - 8s - loss: 4.5985e-07 - AUC: 0.9983 - fn: 8.0000 - fp: 4499.0000 - tn: 222930.0000 - tp: 409.0000 - val_loss: 0.0171 - val_AUC: 0.9737 - val_fn: 9.0000 - val_fp: 273.0000 - val_tn: 56613.0000 - val_tp: 66.0000\n",
            "Epoch 31/50\n",
            "112/112 - 8s - loss: 1.0586e-06 - AUC: 0.9959 - fn: 9.0000 - fp: 4315.0000 - tn: 223114.0000 - tp: 408.0000 - val_loss: 0.0863 - val_AUC: 0.9647 - val_fn: 7.0000 - val_fp: 1391.0000 - val_tn: 55495.0000 - val_tp: 68.0000\n",
            "Epoch 32/50\n",
            "112/112 - 8s - loss: 9.5312e-07 - AUC: 0.9975 - fn: 9.0000 - fp: 4690.0000 - tn: 222739.0000 - tp: 408.0000 - val_loss: 0.0526 - val_AUC: 0.9649 - val_fn: 7.0000 - val_fp: 936.0000 - val_tn: 55950.0000 - val_tp: 68.0000\n",
            "Epoch 33/50\n",
            "112/112 - 8s - loss: 7.7315e-07 - AUC: 0.9967 - fn: 12.0000 - fp: 5851.0000 - tn: 221578.0000 - tp: 405.0000 - val_loss: 0.0232 - val_AUC: 0.9805 - val_fn: 9.0000 - val_fp: 311.0000 - val_tn: 56575.0000 - val_tp: 66.0000\n",
            "Epoch 34/50\n",
            "112/112 - 8s - loss: 5.1783e-07 - AUC: 0.9981 - fn: 8.0000 - fp: 3514.0000 - tn: 223915.0000 - tp: 409.0000 - val_loss: 0.0230 - val_AUC: 0.9737 - val_fn: 9.0000 - val_fp: 304.0000 - val_tn: 56582.0000 - val_tp: 66.0000\n",
            "Epoch 35/50\n",
            "112/112 - 8s - loss: 7.2674e-07 - AUC: 0.9969 - fn: 8.0000 - fp: 3691.0000 - tn: 223738.0000 - tp: 409.0000 - val_loss: 0.1362 - val_AUC: 0.9613 - val_fn: 10.0000 - val_fp: 1824.0000 - val_tn: 55062.0000 - val_tp: 65.0000\n",
            "Epoch 36/50\n",
            "112/112 - 8s - loss: 1.2661e-06 - AUC: 0.9960 - fn: 9.0000 - fp: 4672.0000 - tn: 222757.0000 - tp: 408.0000 - val_loss: 0.0742 - val_AUC: 0.9699 - val_fn: 9.0000 - val_fp: 1209.0000 - val_tn: 55677.0000 - val_tp: 66.0000\n",
            "Epoch 37/50\n",
            "112/112 - 8s - loss: 8.7700e-07 - AUC: 0.9978 - fn: 12.0000 - fp: 4889.0000 - tn: 222540.0000 - tp: 405.0000 - val_loss: 0.0442 - val_AUC: 0.9825 - val_fn: 8.0000 - val_fp: 605.0000 - val_tn: 56281.0000 - val_tp: 67.0000\n",
            "Epoch 38/50\n",
            "112/112 - 8s - loss: 6.3950e-07 - AUC: 0.9988 - fn: 6.0000 - fp: 3774.0000 - tn: 223655.0000 - tp: 411.0000 - val_loss: 0.0235 - val_AUC: 0.9676 - val_fn: 9.0000 - val_fp: 291.0000 - val_tn: 56595.0000 - val_tp: 66.0000\n",
            "Epoch 39/50\n",
            "112/112 - 8s - loss: 5.6766e-07 - AUC: 0.9986 - fn: 5.0000 - fp: 3873.0000 - tn: 223556.0000 - tp: 412.0000 - val_loss: 0.0136 - val_AUC: 0.9751 - val_fn: 13.0000 - val_fp: 131.0000 - val_tn: 56755.0000 - val_tp: 62.0000\n",
            "Epoch 40/50\n",
            "112/112 - 8s - loss: 4.7334e-07 - AUC: 0.9987 - fn: 5.0000 - fp: 3403.0000 - tn: 224026.0000 - tp: 412.0000 - val_loss: 0.0191 - val_AUC: 0.9740 - val_fn: 10.0000 - val_fp: 279.0000 - val_tn: 56607.0000 - val_tp: 65.0000\n",
            "Epoch 41/50\n",
            "112/112 - 8s - loss: 3.7295e-07 - AUC: 0.9989 - fn: 7.0000 - fp: 3090.0000 - tn: 224339.0000 - tp: 410.0000 - val_loss: 0.0132 - val_AUC: 0.9685 - val_fn: 10.0000 - val_fp: 180.0000 - val_tn: 56706.0000 - val_tp: 65.0000\n",
            "Epoch 42/50\n",
            "112/112 - 8s - loss: 3.8272e-07 - AUC: 0.9987 - fn: 5.0000 - fp: 2852.0000 - tn: 224577.0000 - tp: 412.0000 - val_loss: 0.0092 - val_AUC: 0.9562 - val_fn: 12.0000 - val_fp: 130.0000 - val_tn: 56756.0000 - val_tp: 63.0000\n",
            "Epoch 43/50\n",
            "112/112 - 8s - loss: 3.4437e-07 - AUC: 0.9988 - fn: 5.0000 - fp: 2975.0000 - tn: 224454.0000 - tp: 412.0000 - val_loss: 0.0211 - val_AUC: 0.9679 - val_fn: 10.0000 - val_fp: 348.0000 - val_tn: 56538.0000 - val_tp: 65.0000\n",
            "Epoch 44/50\n",
            "112/112 - 8s - loss: 3.3350e-07 - AUC: 0.9989 - fn: 2.0000 - fp: 2860.0000 - tn: 224569.0000 - tp: 415.0000 - val_loss: 0.0115 - val_AUC: 0.9627 - val_fn: 11.0000 - val_fp: 153.0000 - val_tn: 56733.0000 - val_tp: 64.0000\n",
            "Epoch 45/50\n",
            "112/112 - 8s - loss: 3.9849e-07 - AUC: 0.9984 - fn: 6.0000 - fp: 3211.0000 - tn: 224218.0000 - tp: 411.0000 - val_loss: 0.0486 - val_AUC: 0.9729 - val_fn: 7.0000 - val_fp: 919.0000 - val_tn: 55967.0000 - val_tp: 68.0000\n",
            "Epoch 46/50\n",
            "112/112 - 8s - loss: 3.0214e-07 - AUC: 0.9991 - fn: 4.0000 - fp: 2945.0000 - tn: 224484.0000 - tp: 413.0000 - val_loss: 0.0128 - val_AUC: 0.9687 - val_fn: 9.0000 - val_fp: 196.0000 - val_tn: 56690.0000 - val_tp: 66.0000\n",
            "Epoch 47/50\n",
            "112/112 - 8s - loss: 2.9227e-07 - AUC: 0.9991 - fn: 4.0000 - fp: 2481.0000 - tn: 224948.0000 - tp: 413.0000 - val_loss: 0.0104 - val_AUC: 0.9698 - val_fn: 11.0000 - val_fp: 156.0000 - val_tn: 56730.0000 - val_tp: 64.0000\n",
            "Epoch 48/50\n",
            "112/112 - 8s - loss: 2.8864e-07 - AUC: 0.9992 - fn: 2.0000 - fp: 2386.0000 - tn: 225043.0000 - tp: 415.0000 - val_loss: 0.0185 - val_AUC: 0.9562 - val_fn: 8.0000 - val_fp: 241.0000 - val_tn: 56645.0000 - val_tp: 67.0000\n",
            "Epoch 49/50\n",
            "112/112 - 8s - loss: 3.1679e-07 - AUC: 0.9989 - fn: 3.0000 - fp: 2669.0000 - tn: 224760.0000 - tp: 414.0000 - val_loss: 0.0139 - val_AUC: 0.9627 - val_fn: 10.0000 - val_fp: 230.0000 - val_tn: 56656.0000 - val_tp: 65.0000\n",
            "Epoch 50/50\n",
            "112/112 - 8s - loss: 1.8407e-07 - AUC: 0.9994 - fn: 1.0000 - fp: 1904.0000 - tn: 225525.0000 - tp: 416.0000 - val_loss: 0.0074 - val_AUC: 0.9578 - val_fn: 12.0000 - val_fp: 103.0000 - val_tn: 56783.0000 - val_tp: 63.0000\n"
          ],
          "name": "stdout"
        },
        {
          "output_type": "execute_result",
          "data": {
            "text/plain": [
              "<tensorflow.python.keras.callbacks.History at 0x7f667ccc4b70>"
            ]
          },
          "metadata": {
            "tags": []
          },
          "execution_count": 56
        }
      ]
    },
    {
      "cell_type": "code",
      "metadata": {
        "id": "KXQ45-ZmwlFy",
        "colab_type": "code",
        "colab": {}
      },
      "source": [
        ""
      ],
      "execution_count": null,
      "outputs": []
    },
    {
      "cell_type": "markdown",
      "metadata": {
        "id": "We5Rn37jGlpS",
        "colab_type": "text"
      },
      "source": [
        "###**4.8 Conclusion**\n",
        "\n",
        "We've used different machine and deep learning techniques to detect fraud in credit card transactions. We analyzed our results by applying the traditional way (crosstab), logistic regression with SMOTE and without SMOTe, Random Forest classifier, and gridsearchCV hyperparameter tuning technique. We also used anomaly detection i.e. Isolation Forest and Local Outlier Factor to find the accuracy in our models. We also implemented a neural network model in TensorFlow and we found that the Random Forest Classifier method and the TensorFlow model were the better once."
      ]
    },
    {
      "cell_type": "markdown",
      "metadata": {
        "id": "uVshKlQCGvW6",
        "colab_type": "text"
      },
      "source": [
        "###**4.9 References**\n",
        "\n",
        "*   [Credit Card Fraud Detection using Machine Learning Algorithms](https://www.researchgate.net/publication/339543849_Credit_Card_Fraud_Detection_using_Machine_Learning_Algorithms)\n",
        "\n",
        "*   [Fraud Detection using Machine Learning and Deep Learning](https://www.researchgate.net/publication/339411416_Fraud_Detection_using_Machine_Learning_and_Deep_Learning)\n",
        "\n",
        "*   [Precision and Recall](https://towardsdatascience.com/beyond-accuracy-precision-and-recall-3da06bea9f6c)\n",
        "*   [Confusion matrix terminology](https://www.dataschool.io/simple-guide-to-confusion-matrix-terminology/#:~:text=A%20confusion%20matrix%20is%20a,related%20terminology%20can%20be%20confusing.)\n",
        "*   [Understanding AUC - ROC Curve](https://towardsdatascience.com/understanding-auc-roc-curve-68b2303cc9c5)"
      ]
    }
  ]
}